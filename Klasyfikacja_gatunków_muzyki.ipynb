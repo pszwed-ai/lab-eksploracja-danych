{
  "nbformat": 4,
  "nbformat_minor": 0,
  "metadata": {
    "colab": {
      "provenance": [],
      "toc_visible": true,
      "authorship_tag": "ABX9TyMfY1H6OIcXjqmHsHlkqRdE",
      "include_colab_link": true
    },
    "kernelspec": {
      "name": "python3",
      "display_name": "Python 3"
    },
    "language_info": {
      "name": "python"
    }
  },
  "cells": [
    {
      "cell_type": "markdown",
      "metadata": {
        "id": "view-in-github",
        "colab_type": "text"
      },
      "source": [
        "<a href=\"https://colab.research.google.com/github/pszwed-ai/lab-eksploracja-danych/blob/main/Klasyfikacja_gatunk%C3%B3w_muzyki.ipynb\" target=\"_parent\"><img src=\"https://colab.research.google.com/assets/colab-badge.svg\" alt=\"Open In Colab\"/></a>"
      ]
    },
    {
      "cell_type": "markdown",
      "metadata": {
        "id": "6H4EaopA2j_g"
      },
      "source": [
        "# Klasyfikacja gatunków muzyki\n",
        "## Imię i nazwisko\n",
        "Celem laboratorium jest przeprowadzenie klasyfikacji gatunków muzyki na podstawie wyodrębnionych cech.\n",
        "* Zastosujemy skalowanie cech\n",
        "* Porównamy kilka klasyfikatorów\n",
        "* Zastosujemy ciąg przetwarzania (*pipeline*)\n",
        "\n"
      ]
    },
    {
      "cell_type": "markdown",
      "metadata": {
        "id": "W1TgGHAn3Y8K"
      },
      "source": [
        "## 1. Pobieramy i wczytujemy dane"
      ]
    },
    {
      "cell_type": "code",
      "metadata": {
        "id": "yAoVVIIGUZ5M"
      },
      "source": [
        "!wget https://dysk.agh.edu.pl/s/foAZjcKxtX2TQj5/download -O gitzan_small_features.csv"
      ],
      "execution_count": null,
      "outputs": []
    },
    {
      "cell_type": "code",
      "metadata": {
        "id": "Y9bXPG09eoBb"
      },
      "source": [
        "import pandas as pd\n",
        "import numpy as np\n",
        "import matplotlib.pyplot as plt\n"
      ],
      "execution_count": null,
      "outputs": []
    },
    {
      "cell_type": "code",
      "metadata": {
        "colab": {
          "base_uri": "https://localhost:8080/",
          "height": 482
        },
        "id": "a5QzuHkDeyrd",
        "outputId": "13bddd38-319e-41ec-a162-71495bba04ec"
      },
      "source": [
        "df = pd.read_csv('gitzan_small_features.csv').drop(columns = ['Unnamed: 0'])\n",
        "df.head()\n"
      ],
      "execution_count": null,
      "outputs": [
        {
          "output_type": "execute_result",
          "data": {
            "text/html": [
              "<div>\n",
              "<style scoped>\n",
              "    .dataframe tbody tr th:only-of-type {\n",
              "        vertical-align: middle;\n",
              "    }\n",
              "\n",
              "    .dataframe tbody tr th {\n",
              "        vertical-align: top;\n",
              "    }\n",
              "\n",
              "    .dataframe thead th {\n",
              "        text-align: right;\n",
              "    }\n",
              "</style>\n",
              "<table border=\"1\" class=\"dataframe\">\n",
              "  <thead>\n",
              "    <tr style=\"text-align: right;\">\n",
              "      <th></th>\n",
              "      <th>genre</th>\n",
              "      <th>file</th>\n",
              "      <th>audio</th>\n",
              "      <th>sr</th>\n",
              "      <th>zero_crossing_rate_mean</th>\n",
              "      <th>zero_crossing_rate_var</th>\n",
              "      <th>spectral_centroid_mean</th>\n",
              "      <th>spectral_centroid_var</th>\n",
              "      <th>rms_mean</th>\n",
              "      <th>rms_var</th>\n",
              "      <th>spectral_rolloff_mean</th>\n",
              "      <th>spectral_rolloff_var</th>\n",
              "      <th>mfcc01_mean</th>\n",
              "      <th>mfcc01_var</th>\n",
              "      <th>mfcc02_mean</th>\n",
              "      <th>mfcc02_var</th>\n",
              "      <th>mfcc03_mean</th>\n",
              "      <th>mfcc03_var</th>\n",
              "      <th>mfcc04_mean</th>\n",
              "      <th>mfcc04_var</th>\n",
              "      <th>mfcc05_mean</th>\n",
              "      <th>mfcc05_var</th>\n",
              "      <th>mfcc06_mean</th>\n",
              "      <th>mfcc06_var</th>\n",
              "      <th>mfcc07_mean</th>\n",
              "      <th>mfcc07_var</th>\n",
              "      <th>mfcc08_mean</th>\n",
              "      <th>mfcc08_var</th>\n",
              "      <th>mfcc09_mean</th>\n",
              "      <th>mfcc09_var</th>\n",
              "      <th>mfcc10_mean</th>\n",
              "      <th>mfcc10_var</th>\n",
              "      <th>mfcc11_mean</th>\n",
              "      <th>mfcc11_var</th>\n",
              "      <th>mfcc12_mean</th>\n",
              "      <th>mfcc12_var</th>\n",
              "      <th>mfcc13_mean</th>\n",
              "      <th>mfcc13_var</th>\n",
              "      <th>mfcc14_mean</th>\n",
              "      <th>mfcc14_var</th>\n",
              "      <th>mfcc15_mean</th>\n",
              "      <th>mfcc15_var</th>\n",
              "      <th>mfcc16_mean</th>\n",
              "      <th>mfcc16_var</th>\n",
              "      <th>mfcc17_mean</th>\n",
              "      <th>mfcc17_var</th>\n",
              "      <th>mfcc18_mean</th>\n",
              "      <th>mfcc18_var</th>\n",
              "      <th>mfcc19_mean</th>\n",
              "      <th>mfcc19_var</th>\n",
              "      <th>mfcc20_mean</th>\n",
              "      <th>mfcc20_var</th>\n",
              "      <th>chroma01_mean</th>\n",
              "      <th>chroma01_var</th>\n",
              "      <th>chroma02_mean</th>\n",
              "      <th>chroma02_var</th>\n",
              "      <th>chroma03_mean</th>\n",
              "      <th>chroma03_var</th>\n",
              "      <th>chroma04_mean</th>\n",
              "      <th>chroma04_var</th>\n",
              "      <th>chroma05_mean</th>\n",
              "      <th>chroma05_var</th>\n",
              "      <th>chroma06_mean</th>\n",
              "      <th>chroma06_var</th>\n",
              "      <th>chroma07_mean</th>\n",
              "      <th>chroma07_var</th>\n",
              "      <th>chroma08_mean</th>\n",
              "      <th>chroma08_var</th>\n",
              "      <th>chroma09_mean</th>\n",
              "      <th>chroma09_var</th>\n",
              "      <th>chroma10_mean</th>\n",
              "      <th>chroma10_var</th>\n",
              "      <th>chroma11_mean</th>\n",
              "      <th>chroma11_var</th>\n",
              "      <th>chroma12_mean</th>\n",
              "      <th>chroma12_var</th>\n",
              "      <th>tempo</th>\n",
              "    </tr>\n",
              "  </thead>\n",
              "  <tbody>\n",
              "    <tr>\n",
              "      <th>0</th>\n",
              "      <td>classical</td>\n",
              "      <td>classical.00009.wav</td>\n",
              "      <td>[ 0.01455688  0.02090454  0.01434326 ... -0.03...</td>\n",
              "      <td>22050</td>\n",
              "      <td>0.056318</td>\n",
              "      <td>0.000273</td>\n",
              "      <td>1216.490186</td>\n",
              "      <td>44096.597865</td>\n",
              "      <td>0.023794</td>\n",
              "      <td>0.000126</td>\n",
              "      <td>2561.896278</td>\n",
              "      <td>194029.170833</td>\n",
              "      <td>-356.105896</td>\n",
              "      <td>5138.998047</td>\n",
              "      <td>139.812668</td>\n",
              "      <td>594.842407</td>\n",
              "      <td>-6.278577</td>\n",
              "      <td>222.142578</td>\n",
              "      <td>43.177387</td>\n",
              "      <td>75.920815</td>\n",
              "      <td>-8.851788</td>\n",
              "      <td>121.299347</td>\n",
              "      <td>11.047903</td>\n",
              "      <td>64.212715</td>\n",
              "      <td>-8.375142</td>\n",
              "      <td>70.260994</td>\n",
              "      <td>4.419640</td>\n",
              "      <td>55.727222</td>\n",
              "      <td>-8.284429</td>\n",
              "      <td>84.148659</td>\n",
              "      <td>8.676265</td>\n",
              "      <td>59.429455</td>\n",
              "      <td>-8.135021</td>\n",
              "      <td>59.158836</td>\n",
              "      <td>3.428734</td>\n",
              "      <td>62.910938</td>\n",
              "      <td>-1.439430</td>\n",
              "      <td>81.050583</td>\n",
              "      <td>-0.422975</td>\n",
              "      <td>75.628326</td>\n",
              "      <td>-1.727986</td>\n",
              "      <td>81.841583</td>\n",
              "      <td>-0.289919</td>\n",
              "      <td>79.411140</td>\n",
              "      <td>-0.660843</td>\n",
              "      <td>80.768028</td>\n",
              "      <td>1.160320</td>\n",
              "      <td>105.002174</td>\n",
              "      <td>-0.618511</td>\n",
              "      <td>92.521919</td>\n",
              "      <td>-0.254033</td>\n",
              "      <td>88.053047</td>\n",
              "      <td>0.330077</td>\n",
              "      <td>0.122640</td>\n",
              "      <td>0.224335</td>\n",
              "      <td>0.028558</td>\n",
              "      <td>0.426305</td>\n",
              "      <td>0.137994</td>\n",
              "      <td>0.416318</td>\n",
              "      <td>0.118238</td>\n",
              "      <td>0.181330</td>\n",
              "      <td>0.029370</td>\n",
              "      <td>0.179326</td>\n",
              "      <td>0.057382</td>\n",
              "      <td>0.232602</td>\n",
              "      <td>0.061283</td>\n",
              "      <td>0.321805</td>\n",
              "      <td>0.099639</td>\n",
              "      <td>0.213113</td>\n",
              "      <td>0.057743</td>\n",
              "      <td>0.254609</td>\n",
              "      <td>0.071775</td>\n",
              "      <td>0.281618</td>\n",
              "      <td>0.093348</td>\n",
              "      <td>0.184853</td>\n",
              "      <td>0.027074</td>\n",
              "      <td>129.199219</td>\n",
              "    </tr>\n",
              "    <tr>\n",
              "      <th>1</th>\n",
              "      <td>classical</td>\n",
              "      <td>classical.00004.wav</td>\n",
              "      <td>[-0.01077271 -0.02001953 -0.02426147 ... -0.10...</td>\n",
              "      <td>22050</td>\n",
              "      <td>0.113025</td>\n",
              "      <td>0.000160</td>\n",
              "      <td>1705.219843</td>\n",
              "      <td>19385.506566</td>\n",
              "      <td>0.042267</td>\n",
              "      <td>0.000015</td>\n",
              "      <td>3173.654579</td>\n",
              "      <td>90702.809277</td>\n",
              "      <td>-259.915131</td>\n",
              "      <td>559.994202</td>\n",
              "      <td>118.950165</td>\n",
              "      <td>220.623672</td>\n",
              "      <td>-35.617493</td>\n",
              "      <td>142.532074</td>\n",
              "      <td>31.963696</td>\n",
              "      <td>64.236458</td>\n",
              "      <td>-16.525824</td>\n",
              "      <td>75.869499</td>\n",
              "      <td>10.616533</td>\n",
              "      <td>58.395416</td>\n",
              "      <td>-15.653919</td>\n",
              "      <td>56.340309</td>\n",
              "      <td>7.417118</td>\n",
              "      <td>109.246628</td>\n",
              "      <td>-5.822312</td>\n",
              "      <td>96.478905</td>\n",
              "      <td>8.268572</td>\n",
              "      <td>96.748726</td>\n",
              "      <td>-17.982002</td>\n",
              "      <td>184.843124</td>\n",
              "      <td>-1.185533</td>\n",
              "      <td>161.261414</td>\n",
              "      <td>-6.355772</td>\n",
              "      <td>104.342644</td>\n",
              "      <td>2.748989</td>\n",
              "      <td>143.830902</td>\n",
              "      <td>-2.585194</td>\n",
              "      <td>83.438316</td>\n",
              "      <td>4.403328</td>\n",
              "      <td>83.138359</td>\n",
              "      <td>-4.125299</td>\n",
              "      <td>69.470558</td>\n",
              "      <td>-4.787770</td>\n",
              "      <td>131.776337</td>\n",
              "      <td>-4.774069</td>\n",
              "      <td>115.447807</td>\n",
              "      <td>-4.603728</td>\n",
              "      <td>217.122009</td>\n",
              "      <td>0.326663</td>\n",
              "      <td>0.115534</td>\n",
              "      <td>0.140226</td>\n",
              "      <td>0.024339</td>\n",
              "      <td>0.249061</td>\n",
              "      <td>0.118054</td>\n",
              "      <td>0.126175</td>\n",
              "      <td>0.013594</td>\n",
              "      <td>0.341997</td>\n",
              "      <td>0.136070</td>\n",
              "      <td>0.241625</td>\n",
              "      <td>0.105913</td>\n",
              "      <td>0.122987</td>\n",
              "      <td>0.035079</td>\n",
              "      <td>0.129966</td>\n",
              "      <td>0.041241</td>\n",
              "      <td>0.183229</td>\n",
              "      <td>0.070243</td>\n",
              "      <td>0.310166</td>\n",
              "      <td>0.124506</td>\n",
              "      <td>0.182775</td>\n",
              "      <td>0.055630</td>\n",
              "      <td>0.304015</td>\n",
              "      <td>0.101638</td>\n",
              "      <td>107.666016</td>\n",
              "    </tr>\n",
              "    <tr>\n",
              "      <th>2</th>\n",
              "      <td>classical</td>\n",
              "      <td>classical.00002.wav</td>\n",
              "      <td>[-0.04046631 -0.07815552 -0.08737183 ... -0.06...</td>\n",
              "      <td>22050</td>\n",
              "      <td>0.090184</td>\n",
              "      <td>0.000153</td>\n",
              "      <td>1490.378080</td>\n",
              "      <td>8607.935700</td>\n",
              "      <td>0.043848</td>\n",
              "      <td>0.000075</td>\n",
              "      <td>2785.054800</td>\n",
              "      <td>27281.869279</td>\n",
              "      <td>-235.253723</td>\n",
              "      <td>857.942932</td>\n",
              "      <td>141.109985</td>\n",
              "      <td>197.688095</td>\n",
              "      <td>-34.670734</td>\n",
              "      <td>151.697357</td>\n",
              "      <td>30.966612</td>\n",
              "      <td>136.075378</td>\n",
              "      <td>-16.380020</td>\n",
              "      <td>51.464291</td>\n",
              "      <td>23.110828</td>\n",
              "      <td>81.581482</td>\n",
              "      <td>-11.030149</td>\n",
              "      <td>79.478058</td>\n",
              "      <td>7.638682</td>\n",
              "      <td>59.445889</td>\n",
              "      <td>-19.011942</td>\n",
              "      <td>50.834618</td>\n",
              "      <td>4.219429</td>\n",
              "      <td>77.911613</td>\n",
              "      <td>-11.827600</td>\n",
              "      <td>60.403744</td>\n",
              "      <td>8.911826</td>\n",
              "      <td>67.262627</td>\n",
              "      <td>-1.431638</td>\n",
              "      <td>99.733551</td>\n",
              "      <td>4.288130</td>\n",
              "      <td>81.594810</td>\n",
              "      <td>1.475192</td>\n",
              "      <td>94.948868</td>\n",
              "      <td>3.171561</td>\n",
              "      <td>85.150909</td>\n",
              "      <td>-1.309433</td>\n",
              "      <td>77.170746</td>\n",
              "      <td>2.945178</td>\n",
              "      <td>74.202660</td>\n",
              "      <td>-1.655027</td>\n",
              "      <td>59.096081</td>\n",
              "      <td>-2.896193</td>\n",
              "      <td>53.000439</td>\n",
              "      <td>0.197408</td>\n",
              "      <td>0.018763</td>\n",
              "      <td>0.423735</td>\n",
              "      <td>0.123738</td>\n",
              "      <td>0.361969</td>\n",
              "      <td>0.106689</td>\n",
              "      <td>0.232111</td>\n",
              "      <td>0.040728</td>\n",
              "      <td>0.393312</td>\n",
              "      <td>0.135134</td>\n",
              "      <td>0.146246</td>\n",
              "      <td>0.012602</td>\n",
              "      <td>0.232608</td>\n",
              "      <td>0.083900</td>\n",
              "      <td>0.141548</td>\n",
              "      <td>0.021263</td>\n",
              "      <td>0.281557</td>\n",
              "      <td>0.076378</td>\n",
              "      <td>0.286905</td>\n",
              "      <td>0.087733</td>\n",
              "      <td>0.178080</td>\n",
              "      <td>0.016680</td>\n",
              "      <td>0.460017</td>\n",
              "      <td>0.150065</td>\n",
              "      <td>99.384014</td>\n",
              "    </tr>\n",
              "    <tr>\n",
              "      <th>3</th>\n",
              "      <td>classical</td>\n",
              "      <td>classical.00003.wav</td>\n",
              "      <td>[-0.0083313  -0.02258301 -0.04367065 ...  0.00...</td>\n",
              "      <td>22050</td>\n",
              "      <td>0.109106</td>\n",
              "      <td>0.000559</td>\n",
              "      <td>1528.064761</td>\n",
              "      <td>30246.396563</td>\n",
              "      <td>0.029435</td>\n",
              "      <td>0.000148</td>\n",
              "      <td>2915.380371</td>\n",
              "      <td>102374.413265</td>\n",
              "      <td>-326.861084</td>\n",
              "      <td>3202.030518</td>\n",
              "      <td>127.402405</td>\n",
              "      <td>309.813385</td>\n",
              "      <td>-30.606897</td>\n",
              "      <td>462.589783</td>\n",
              "      <td>37.458172</td>\n",
              "      <td>127.535774</td>\n",
              "      <td>-5.300833</td>\n",
              "      <td>131.176254</td>\n",
              "      <td>20.819963</td>\n",
              "      <td>116.825882</td>\n",
              "      <td>-1.774824</td>\n",
              "      <td>72.766998</td>\n",
              "      <td>-4.613475</td>\n",
              "      <td>100.286743</td>\n",
              "      <td>-4.044669</td>\n",
              "      <td>93.047157</td>\n",
              "      <td>5.224090</td>\n",
              "      <td>73.665794</td>\n",
              "      <td>-0.653077</td>\n",
              "      <td>125.600029</td>\n",
              "      <td>2.794031</td>\n",
              "      <td>173.143204</td>\n",
              "      <td>7.235353</td>\n",
              "      <td>151.135330</td>\n",
              "      <td>3.975654</td>\n",
              "      <td>113.026062</td>\n",
              "      <td>-2.387836</td>\n",
              "      <td>154.935699</td>\n",
              "      <td>1.499585</td>\n",
              "      <td>125.197098</td>\n",
              "      <td>0.597389</td>\n",
              "      <td>111.539612</td>\n",
              "      <td>-0.595684</td>\n",
              "      <td>151.719910</td>\n",
              "      <td>2.341259</td>\n",
              "      <td>133.902252</td>\n",
              "      <td>2.640535</td>\n",
              "      <td>210.365616</td>\n",
              "      <td>0.333985</td>\n",
              "      <td>0.140403</td>\n",
              "      <td>0.139870</td>\n",
              "      <td>0.014449</td>\n",
              "      <td>0.348687</td>\n",
              "      <td>0.150319</td>\n",
              "      <td>0.253539</td>\n",
              "      <td>0.086614</td>\n",
              "      <td>0.260052</td>\n",
              "      <td>0.089727</td>\n",
              "      <td>0.266603</td>\n",
              "      <td>0.120928</td>\n",
              "      <td>0.200302</td>\n",
              "      <td>0.057888</td>\n",
              "      <td>0.322156</td>\n",
              "      <td>0.111205</td>\n",
              "      <td>0.114515</td>\n",
              "      <td>0.009307</td>\n",
              "      <td>0.200648</td>\n",
              "      <td>0.067195</td>\n",
              "      <td>0.167862</td>\n",
              "      <td>0.039964</td>\n",
              "      <td>0.202532</td>\n",
              "      <td>0.049618</td>\n",
              "      <td>135.999178</td>\n",
              "    </tr>\n",
              "    <tr>\n",
              "      <th>4</th>\n",
              "      <td>classical</td>\n",
              "      <td>classical.00001.wav</td>\n",
              "      <td>[-0.01138306 -0.00216675  0.01687622 ... -0.02...</td>\n",
              "      <td>22050</td>\n",
              "      <td>0.087911</td>\n",
              "      <td>0.000188</td>\n",
              "      <td>1360.209759</td>\n",
              "      <td>10357.021704</td>\n",
              "      <td>0.030631</td>\n",
              "      <td>0.000033</td>\n",
              "      <td>2386.798208</td>\n",
              "      <td>66259.286619</td>\n",
              "      <td>-324.061157</td>\n",
              "      <td>984.016663</td>\n",
              "      <td>133.594574</td>\n",
              "      <td>333.298340</td>\n",
              "      <td>-25.044693</td>\n",
              "      <td>187.519211</td>\n",
              "      <td>24.552649</td>\n",
              "      <td>151.717148</td>\n",
              "      <td>-11.947024</td>\n",
              "      <td>130.163788</td>\n",
              "      <td>17.667559</td>\n",
              "      <td>139.478943</td>\n",
              "      <td>-5.524336</td>\n",
              "      <td>123.143349</td>\n",
              "      <td>1.711051</td>\n",
              "      <td>82.182915</td>\n",
              "      <td>-10.577142</td>\n",
              "      <td>76.726608</td>\n",
              "      <td>-0.849830</td>\n",
              "      <td>82.189575</td>\n",
              "      <td>-7.808103</td>\n",
              "      <td>98.431038</td>\n",
              "      <td>3.525355</td>\n",
              "      <td>117.615974</td>\n",
              "      <td>5.048823</td>\n",
              "      <td>192.858704</td>\n",
              "      <td>1.367480</td>\n",
              "      <td>156.295425</td>\n",
              "      <td>3.010916</td>\n",
              "      <td>163.492477</td>\n",
              "      <td>-3.128689</td>\n",
              "      <td>158.498138</td>\n",
              "      <td>-4.289846</td>\n",
              "      <td>75.676437</td>\n",
              "      <td>0.591010</td>\n",
              "      <td>134.617691</td>\n",
              "      <td>2.877631</td>\n",
              "      <td>153.630554</td>\n",
              "      <td>0.373280</td>\n",
              "      <td>123.707382</td>\n",
              "      <td>0.163933</td>\n",
              "      <td>0.032886</td>\n",
              "      <td>0.240886</td>\n",
              "      <td>0.089222</td>\n",
              "      <td>0.388415</td>\n",
              "      <td>0.142647</td>\n",
              "      <td>0.153276</td>\n",
              "      <td>0.037422</td>\n",
              "      <td>0.147509</td>\n",
              "      <td>0.064109</td>\n",
              "      <td>0.118112</td>\n",
              "      <td>0.032940</td>\n",
              "      <td>0.254735</td>\n",
              "      <td>0.110578</td>\n",
              "      <td>0.161449</td>\n",
              "      <td>0.049780</td>\n",
              "      <td>0.090736</td>\n",
              "      <td>0.014726</td>\n",
              "      <td>0.175968</td>\n",
              "      <td>0.075013</td>\n",
              "      <td>0.216879</td>\n",
              "      <td>0.051535</td>\n",
              "      <td>0.468043</td>\n",
              "      <td>0.182710</td>\n",
              "      <td>117.453835</td>\n",
              "    </tr>\n",
              "  </tbody>\n",
              "</table>\n",
              "</div>"
            ],
            "text/plain": [
              "       genre                 file  ... chroma12_var       tempo\n",
              "0  classical  classical.00009.wav  ...     0.027074  129.199219\n",
              "1  classical  classical.00004.wav  ...     0.101638  107.666016\n",
              "2  classical  classical.00002.wav  ...     0.150065   99.384014\n",
              "3  classical  classical.00003.wav  ...     0.049618  135.999178\n",
              "4  classical  classical.00001.wav  ...     0.182710  117.453835\n",
              "\n",
              "[5 rows x 77 columns]"
            ]
          },
          "metadata": {
            "tags": []
          },
          "execution_count": 3
        }
      ]
    },
    {
      "cell_type": "markdown",
      "metadata": {
        "id": "sbr6BhTN30QP"
      },
      "source": [
        "Oprócz wyznaczonych cech zbiór danych zawiera oryginalne surowe dane i ich etykiety"
      ]
    },
    {
      "cell_type": "code",
      "metadata": {
        "colab": {
          "base_uri": "https://localhost:8080/"
        },
        "id": "uYWTjSRgh5OT",
        "outputId": "fc8d4d1a-cf71-4e9a-e1d9-719f51551d22"
      },
      "source": [
        "df.columns"
      ],
      "execution_count": null,
      "outputs": [
        {
          "output_type": "execute_result",
          "data": {
            "text/plain": [
              "Index(['genre', 'file', 'audio', 'sr', 'zero_crossing_rate_mean',\n",
              "       'zero_crossing_rate_var', 'spectral_centroid_mean',\n",
              "       'spectral_centroid_var', 'rms_mean', 'rms_var', 'spectral_rolloff_mean',\n",
              "       'spectral_rolloff_var', 'mfcc01_mean', 'mfcc01_var', 'mfcc02_mean',\n",
              "       'mfcc02_var', 'mfcc03_mean', 'mfcc03_var', 'mfcc04_mean', 'mfcc04_var',\n",
              "       'mfcc05_mean', 'mfcc05_var', 'mfcc06_mean', 'mfcc06_var', 'mfcc07_mean',\n",
              "       'mfcc07_var', 'mfcc08_mean', 'mfcc08_var', 'mfcc09_mean', 'mfcc09_var',\n",
              "       'mfcc10_mean', 'mfcc10_var', 'mfcc11_mean', 'mfcc11_var', 'mfcc12_mean',\n",
              "       'mfcc12_var', 'mfcc13_mean', 'mfcc13_var', 'mfcc14_mean', 'mfcc14_var',\n",
              "       'mfcc15_mean', 'mfcc15_var', 'mfcc16_mean', 'mfcc16_var', 'mfcc17_mean',\n",
              "       'mfcc17_var', 'mfcc18_mean', 'mfcc18_var', 'mfcc19_mean', 'mfcc19_var',\n",
              "       'mfcc20_mean', 'mfcc20_var', 'chroma01_mean', 'chroma01_var',\n",
              "       'chroma02_mean', 'chroma02_var', 'chroma03_mean', 'chroma03_var',\n",
              "       'chroma04_mean', 'chroma04_var', 'chroma05_mean', 'chroma05_var',\n",
              "       'chroma06_mean', 'chroma06_var', 'chroma07_mean', 'chroma07_var',\n",
              "       'chroma08_mean', 'chroma08_var', 'chroma09_mean', 'chroma09_var',\n",
              "       'chroma10_mean', 'chroma10_var', 'chroma11_mean', 'chroma11_var',\n",
              "       'chroma12_mean', 'chroma12_var', 'tempo'],\n",
              "      dtype='object')"
            ]
          },
          "metadata": {
            "tags": []
          },
          "execution_count": 4
        }
      ]
    },
    {
      "cell_type": "markdown",
      "metadata": {
        "id": "loNvX8pp4kQU"
      },
      "source": [
        "**TODO**\n",
        "* Usuń zbędne kolumny z DataFrame (te które nie są wyznaczonymi cechami)\n",
        "* Przekonwertuj do postaci macierzy ```numpy``` za pomocą metody ```to_numpy()```"
      ]
    },
    {
      "cell_type": "code",
      "metadata": {
        "colab": {
          "base_uri": "https://localhost:8080/"
        },
        "id": "z5N-uEJ9fIru",
        "outputId": "4048bec9-f6d0-4fbe-c952-c8358b007dbe"
      },
      "source": [
        "from sklearn.model_selection import train_test_split\n",
        "from sklearn.model_selection import cross_validate\n",
        "from sklearn.preprocessing import LabelEncoder, StandardScaler\n",
        "\n",
        "# wyznaczanie etykiet w postci liczbowej\n",
        "labels = df['genre']\n",
        "le = LabelEncoder()\n",
        "y = le.fit_transform(labels)\n",
        "print(y)\n",
        "print(le.classes_)\n",
        "\n",
        "#usuwanie zbędnych kolumn\n",
        "X= ???? TODO\n",
        "print(X.shape)"
      ],
      "execution_count": null,
      "outputs": [
        {
          "output_type": "stream",
          "text": [
            "[1 1 1 1 1 1 1 1 1 1 0 0 0 0 0 0 0 0 0 0 9 9 9 9 9 9 9 9 9 9 5 5 5 5 5 5 5\n",
            " 5 5 5 4 4 4 4 4 4 4 4 4 4 2 2 2 2 2 2 2 2 2 2 6 6 6 6 6 6 6 6 6 6 3 3 3 3\n",
            " 3 3 3 3 3 3 8 8 8 8 8 8 8 8 8 8 7 7 7 7 7 7 7 7 7 7]\n",
            "['blues' 'classical' 'country' 'disco' 'hiphop' 'jazz' 'metal' 'pop'\n",
            " 'reggae' 'rock']\n",
            "(100, 73)\n"
          ],
          "name": "stdout"
        }
      ]
    },
    {
      "cell_type": "markdown",
      "metadata": {
        "id": "1PTdZm7h51pM"
      },
      "source": [
        "## 2. Klasyfikacja"
      ]
    },
    {
      "cell_type": "markdown",
      "metadata": {
        "id": "PfkDQQ6e6cNv"
      },
      "source": [
        "**TODO**\n",
        "* Zastosuj klasyfikator ```GaussianNB``` i wyznacz przewidywane przez klasyfikator etykiety ```y_pred``` za pomocą funkcji ```cross_val_predict()``` z parametrem ```cv=10```\n",
        "* Wyznacz macierz pomyłek za pomocą funkcji ```confusion_matrix()```, a następnie wydrukuj ją"
      ]
    },
    {
      "cell_type": "code",
      "metadata": {
        "colab": {
          "base_uri": "https://localhost:8080/"
        },
        "id": "NsSeoHzqkCRy",
        "outputId": "f9e4654e-2aba-47bc-e4cd-47188d29861a"
      },
      "source": [
        "from sklearn.model_selection import cross_val_predict\n",
        "from sklearn.metrics import confusion_matrix\n",
        "from sklearn.naive_bayes import GaussianNB\n",
        "\n",
        "clf = GaussianNB()\n",
        "\n",
        "y_pred = cross_val_predict(???, ???, ???, cv=10)\n",
        "conf_mat = confusion_matrix(TODO ????)\n",
        "print(conf_mat)\n",
        "\n",
        "import seaborn as sns\n"
      ],
      "execution_count": null,
      "outputs": [
        {
          "output_type": "stream",
          "text": [
            "[[4 0 0 0 0 0 0 0 2 4]\n",
            " [0 9 0 0 0 1 0 0 0 0]\n",
            " [0 0 8 0 0 0 1 1 0 0]\n",
            " [0 0 1 8 0 0 0 1 0 0]\n",
            " [2 0 0 0 6 0 1 1 0 0]\n",
            " [3 0 0 0 0 7 0 0 0 0]\n",
            " [0 0 1 2 0 0 7 0 0 0]\n",
            " [1 0 1 3 2 1 0 2 0 0]\n",
            " [1 0 0 0 1 0 0 0 7 1]\n",
            " [1 0 0 0 0 0 1 0 0 8]]\n"
          ],
          "name": "stdout"
        }
      ]
    },
    {
      "cell_type": "markdown",
      "metadata": {
        "id": "TGGjGXOj7vUI"
      },
      "source": [
        "Zilustrujemy macierz pomyłek wraz z etykietami"
      ]
    },
    {
      "cell_type": "code",
      "metadata": {
        "id": "0BYJOVzDsZAg"
      },
      "source": [
        "# Funkcja pobrana z https://github.com/DTrimarchi10/confusion_matrix/blob/master/cf_matrix.py\n",
        "\n",
        "import numpy as np\n",
        "import matplotlib.pyplot as plt\n",
        "import seaborn as sns\n",
        "\n",
        "def make_confusion_matrix(cf,\n",
        "                          group_names=None,\n",
        "                          categories='auto',\n",
        "                          count=True,\n",
        "                          percent=True,\n",
        "                          cbar=True,\n",
        "                          xyticks=True,\n",
        "                          xyplotlabels=True,\n",
        "                          sum_stats=True,\n",
        "                          figsize=None,\n",
        "                          cmap='Blues',\n",
        "                          title=None):\n",
        "    '''\n",
        "    This function will make a pretty plot of an sklearn Confusion Matrix cm using a Seaborn heatmap visualization.\n",
        "    Arguments\n",
        "    ---------\n",
        "    cf:            confusion matrix to be passed in\n",
        "    group_names:   List of strings that represent the labels row by row to be shown in each square.\n",
        "    categories:    List of strings containing the categories to be displayed on the x,y axis. Default is 'auto'\n",
        "    count:         If True, show the raw number in the confusion matrix. Default is True.\n",
        "    normalize:     If True, show the proportions for each category. Default is True.\n",
        "    cbar:          If True, show the color bar. The cbar values are based off the values in the confusion matrix.\n",
        "                   Default is True.\n",
        "    xyticks:       If True, show x and y ticks. Default is True.\n",
        "    xyplotlabels:  If True, show 'True Label' and 'Predicted Label' on the figure. Default is True.\n",
        "    sum_stats:     If True, display summary statistics below the figure. Default is True.\n",
        "    figsize:       Tuple representing the figure size. Default will be the matplotlib rcParams value.\n",
        "    cmap:          Colormap of the values displayed from matplotlib.pyplot.cm. Default is 'Blues'\n",
        "                   See http://matplotlib.org/examples/color/colormaps_reference.html\n",
        "\n",
        "    title:         Title for the heatmap. Default is None.\n",
        "    '''\n",
        "\n",
        "\n",
        "    # CODE TO GENERATE TEXT INSIDE EACH SQUARE\n",
        "    blanks = ['' for i in range(cf.size)]\n",
        "\n",
        "    if group_names and len(group_names)==cf.size:\n",
        "        group_labels = [\"{}\\n\".format(value) for value in group_names]\n",
        "    else:\n",
        "        group_labels = blanks\n",
        "\n",
        "    if count:\n",
        "        group_counts = [\"{0:0.0f}\\n\".format(value) for value in cf.flatten()]\n",
        "    else:\n",
        "        group_counts = blanks\n",
        "\n",
        "    if percent:\n",
        "        group_percentages = [\"{0:.2%}\".format(value) for value in cf.flatten()/np.sum(cf)]\n",
        "    else:\n",
        "        group_percentages = blanks\n",
        "\n",
        "    box_labels = [f\"{v1}{v2}{v3}\".strip() for v1, v2, v3 in zip(group_labels,group_counts,group_percentages)]\n",
        "    box_labels = np.asarray(box_labels).reshape(cf.shape[0],cf.shape[1])\n",
        "\n",
        "\n",
        "    # CODE TO GENERATE SUMMARY STATISTICS & TEXT FOR SUMMARY STATS\n",
        "    if sum_stats:\n",
        "        #Accuracy is sum of diagonal divided by total observations\n",
        "        accuracy  = np.trace(cf) / float(np.sum(cf))\n",
        "\n",
        "        #if it is a binary confusion matrix, show some more stats\n",
        "        if len(cf)==2:\n",
        "            #Metrics for Binary Confusion Matrices\n",
        "            precision = cf[1,1] / sum(cf[:,1])\n",
        "            recall    = cf[1,1] / sum(cf[1,:])\n",
        "            f1_score  = 2*precision*recall / (precision + recall)\n",
        "            stats_text = \"\\n\\nAccuracy={:0.3f}\\nPrecision={:0.3f}\\nRecall={:0.3f}\\nF1 Score={:0.3f}\".format(\n",
        "                accuracy,precision,recall,f1_score)\n",
        "        else:\n",
        "            stats_text = \"\\n\\nAccuracy={:0.3f}\".format(accuracy)\n",
        "    else:\n",
        "        stats_text = \"\"\n",
        "\n",
        "\n",
        "    # SET FIGURE PARAMETERS ACCORDING TO OTHER ARGUMENTS\n",
        "    if figsize==None:\n",
        "        #Get default figure size if not set\n",
        "        figsize = plt.rcParams.get('figure.figsize')\n",
        "\n",
        "    if xyticks==False:\n",
        "        #Do not show categories if xyticks is False\n",
        "        categories=False\n",
        "\n",
        "\n",
        "    # MAKE THE HEATMAP VISUALIZATION\n",
        "    plt.figure(figsize=figsize)\n",
        "    sns.heatmap(cf,annot=box_labels,fmt=\"\",cmap=cmap,cbar=cbar,xticklabels=categories,yticklabels=categories)\n",
        "\n",
        "    if xyplotlabels:\n",
        "        plt.ylabel('True label')\n",
        "        plt.xlabel('Predicted label' + stats_text)\n",
        "    else:\n",
        "        plt.xlabel(stats_text)\n",
        "\n",
        "    if title:\n",
        "        plt.title(title)"
      ],
      "execution_count": null,
      "outputs": []
    },
    {
      "cell_type": "code",
      "metadata": {
        "colab": {
          "base_uri": "https://localhost:8080/",
          "height": 633
        },
        "id": "_RtyWMIXstVh",
        "outputId": "3d2d8e29-57eb-4122-fa35-237f4df20cac"
      },
      "source": [
        "plt.rcParams[\"figure.figsize\"] = (10,10)\n",
        "make_confusion_matrix(conf_mat,categories=le.classes_)"
      ],
      "execution_count": null,
      "outputs": [
        {
          "output_type": "display_data",
          "data": {
            "image/png": "[encoded data removed]",
            "text/plain": [
              "<Figure size 720x720 with 2 Axes>"
            ]
          },
          "metadata": {
            "tags": [],
            "needs_background": "light"
          }
        }
      ]
    },
    {
      "cell_type": "markdown",
      "metadata": {
        "id": "X-XISJ1Z1o4C"
      },
      "source": [
        "### 2.1 Skalowanie\n",
        "\n",
        "Zastosujemy skalowanie cech:\n",
        "* StandardScaler\n",
        "* MinMaxScaler\n",
        "\n",
        "**TODO**\n",
        "* Jak przekształca dane StandardScaler?\n",
        "* Co robi MinMaxScaler?\n",
        "* Który z nich może zwrócić dane ujemne?"
      ]
    },
    {
      "cell_type": "code",
      "metadata": {
        "colab": {
          "base_uri": "https://localhost:8080/"
        },
        "id": "9TMlWzrjxyz5",
        "outputId": "b437ccf7-6807-4577-e239-f2c0d2a73c05"
      },
      "source": [
        "import numpy as np\n",
        "from sklearn.preprocessing import StandardScaler\n",
        "from sklearn.preprocessing import MinMaxScaler\n",
        "\n",
        "data = np.asarray([[100, 0.001],\n",
        "\t\t\t\t[8, 0.05],\n",
        "\t\t\t\t[50, 0.005],\n",
        "\t\t\t\t[88, 0.07],\n",
        "\t\t\t\t[4, 0.1]])\n",
        "print(\"Przed skalowaniem\")\n",
        "print(data)\n",
        "# define standard scaler\n",
        "scaler = StandardScaler()\n",
        "# transform data\n",
        "scaled = scaler.fit_transform(data)\n",
        "print(\"Po skalowaniu\")\n",
        "print(scaled)\n",
        "\n",
        "print(f'scaler.mean_={scaler.mean_}')\n",
        "print(f'scaler.var_={scaler.var_}')\n",
        "\n",
        "print(f'data.mean(axis=0)={data.mean(axis=0)}')\n",
        "print(f'data.std(axis=0)**2={data.std(axis=0)**2}')\n",
        "\n",
        "print(f'scaled.mean(axis=0)={scaled.mean(axis=0)}')\n",
        "print(f'scaled.std(axis=0)**2={scaled.std(axis=0)**2}')\n"
      ],
      "execution_count": null,
      "outputs": [
        {
          "output_type": "stream",
          "text": [
            "Przed skalowaniem\n",
            "[[1.0e+02 1.0e-03]\n",
            " [8.0e+00 5.0e-02]\n",
            " [5.0e+01 5.0e-03]\n",
            " [8.8e+01 7.0e-02]\n",
            " [4.0e+00 1.0e-01]]\n",
            "Po skalowaniu\n",
            "[[ 1.26398112 -1.16389967]\n",
            " [-1.06174414  0.12639634]\n",
            " [ 0.         -1.05856939]\n",
            " [ 0.96062565  0.65304778]\n",
            " [-1.16286263  1.44302493]]\n",
            "scaler.mean_=[5.00e+01 4.52e-02]\n",
            "scaler.var_=[1.56480e+03 1.44216e-03]\n",
            "data.mean(axis=0)=[5.00e+01 4.52e-02]\n",
            "data.std(axis=0)**2=[1.56480e+03 1.44216e-03]\n",
            "scaled.mean(axis=0)=[ 4.4408921e-17 -4.4408921e-17]\n",
            "scaled.std(axis=0)**2=[1. 1.]\n"
          ],
          "name": "stdout"
        }
      ]
    },
    {
      "cell_type": "code",
      "metadata": {
        "colab": {
          "base_uri": "https://localhost:8080/"
        },
        "id": "VSW-Ykf5_04y",
        "outputId": "c9a5b9a7-be0d-4497-8153-d5531d7634a8"
      },
      "source": [
        "scaler = MinMaxScaler()\n",
        "# transform data\n",
        "scaled = scaler.fit_transform(data)\n",
        "print(\"Po skalowaniu\")\n",
        "print(scaled)"
      ],
      "execution_count": null,
      "outputs": [
        {
          "output_type": "stream",
          "text": [
            "Po skalowaniu\n",
            "[[1.         0.        ]\n",
            " [0.04166667 0.49494949]\n",
            " [0.47916667 0.04040404]\n",
            " [0.875      0.6969697 ]\n",
            " [0.         1.        ]]\n"
          ],
          "name": "stdout"
        }
      ]
    },
    {
      "cell_type": "markdown",
      "metadata": {
        "id": "_I9A8rmNBG-J"
      },
      "source": [
        "Zobaczmy na wyniki po skalowaniu\n",
        "\n",
        "**TODO**\n",
        "* Przeprowadź skalowanie i klasyfikację używając przeskalowanych cech\n",
        "* Wyznacz przewidywane etykiety za pomocą ```cross_val_predict(..., cv=10)```\n",
        "* Narysuj macierz pomyłek\n",
        "* Czy skalowanie miało jakiś wpływ na wyniki?"
      ]
    },
    {
      "cell_type": "code",
      "metadata": {
        "colab": {
          "base_uri": "https://localhost:8080/",
          "height": 633
        },
        "id": "CUnCACpX1sIF",
        "outputId": "c0c8f00f-bd36-4f57-f69d-4da3ffe792c1"
      },
      "source": [
        "scl = StandardScaler()\n",
        "X_scaled=???\n",
        "clf = GaussianNB()\n",
        "\n",
        "y_pred = cross_val_predict(???, ???, ???, cv=10)\n",
        "???\n",
        "???\n"
      ],
      "execution_count": null,
      "outputs": [
        {
          "output_type": "display_data",
          "data": {
            "image/png": "[encoded data removed]",
            "text/plain": [
              "<Figure size 720x720 with 2 Axes>"
            ]
          },
          "metadata": {
            "tags": [],
            "needs_background": "light"
          }
        }
      ]
    },
    {
      "cell_type": "markdown",
      "metadata": {
        "id": "KHUyoa0l2O8e"
      },
      "source": [
        "### 2.2 Budujemy ciąg przetwarzania (pipeline)"
      ]
    },
    {
      "cell_type": "code",
      "metadata": {
        "colab": {
          "base_uri": "https://localhost:8080/"
        },
        "id": "qRK3farw2Nxs",
        "outputId": "ec85369d-9395-410b-ec65-f3269811784b"
      },
      "source": [
        "from sklearn.pipeline import make_pipeline\n",
        "scl = StandardScaler()\n",
        "clf = GaussianNB()\n",
        "\n",
        "pipeline = make_pipeline(scl, clf)\n",
        "print(pipeline)\n",
        "\n"
      ],
      "execution_count": null,
      "outputs": [
        {
          "output_type": "stream",
          "text": [
            "Pipeline(memory=None,\n",
            "         steps=[('standardscaler',\n",
            "                 StandardScaler(copy=True, with_mean=True, with_std=True)),\n",
            "                ('gaussiannb', GaussianNB(priors=None, var_smoothing=1e-09))],\n",
            "         verbose=False)\n"
          ],
          "name": "stdout"
        }
      ]
    },
    {
      "cell_type": "markdown",
      "metadata": {
        "id": "Nn-cd41IExPt"
      },
      "source": [
        "Pipeline ma typowe metody klasyfikatora: ```fit()``` i ```predict()```"
      ]
    },
    {
      "cell_type": "code",
      "metadata": {
        "colab": {
          "base_uri": "https://localhost:8080/"
        },
        "id": "W9XTb-zM6A7s",
        "outputId": "07ceca9e-fd08-4ab3-c886-47fe8925c6a8"
      },
      "source": [
        "import sklearn\n",
        "pipeline.fit(X,y)\n",
        "y_pred = pipeline.predict(X)\n",
        "print(f'Accuracy:{sklearn.metrics.accuracy_score(y,y_pred)}')\n"
      ],
      "execution_count": null,
      "outputs": [
        {
          "output_type": "stream",
          "text": [
            "Accuracy:0.92\n"
          ],
          "name": "stdout"
        }
      ]
    },
    {
      "cell_type": "markdown",
      "metadata": {
        "id": "dfuMSLonHzgw"
      },
      "source": [
        "Oczywiście jest to wynik wyznaczony dla całego zbioru danych. W przypadku podziału na zbiór uczący/testowy rezultat będzie gorszy.\n",
        "\n",
        "**Powinniśmy zastosować określić parametry sklaowania na podstawie zbioru uczącego, a następnie  zastosować je przy transformacji danych zbioru testowego.**"
      ]
    },
    {
      "cell_type": "markdown",
      "metadata": {
        "id": "KjBgnAIlNU9G"
      },
      "source": [
        "### 2.3 Jak wygląda transformacja nieznanych danych?\n",
        "**TODO**\n",
        "* Sprawdź, czy mieszczą się w zakresie dla danych uczących. Pamiętaj, że skalujemy cechy, czyli dane w kolumnach"
      ]
    },
    {
      "cell_type": "code",
      "metadata": {
        "colab": {
          "base_uri": "https://localhost:8080/"
        },
        "id": "JEfYd36jNbkp",
        "outputId": "f53a8724-470f-410e-ce13-cadab6eb0f61"
      },
      "source": [
        "data = np.asarray([[100, 0.001],\n",
        "\t\t\t\t[8, 0.05],\n",
        "\t\t\t\t[50, 0.005],\n",
        "\t\t\t\t[88, 0.07],\n",
        "\t\t\t\t[4, 0.1]])\n",
        "# scaler = StandardScaler()\n",
        "# scaler = MinMaxScaler(feature_range=[0,1])\n",
        "scaler.fit(data)\n",
        "\n",
        "# print(data)\n",
        "unobserved_data = np.asarray([[110, -0.1],\n",
        "\t\t\t\t[-4, 0.12]])\n",
        "scaled = ????? (unobserved_data)\n",
        "print(unobserved_data)\n",
        "print(scaled)\n",
        "\n"
      ],
      "execution_count": null,
      "outputs": [
        {
          "output_type": "stream",
          "text": [
            "[[ 1.1e+02 -1.0e-01]\n",
            " [-4.0e+00  1.2e-01]]\n",
            "[[ 1.10416667 -1.02020202]\n",
            " [-0.08333333  1.2020202 ]]\n"
          ],
          "name": "stdout"
        }
      ]
    },
    {
      "cell_type": "markdown",
      "metadata": {
        "id": "MNjVZbGUfsWK"
      },
      "source": [
        "Testujemy trafność (accuracy) dla różnych losowych podziałów"
      ]
    },
    {
      "cell_type": "code",
      "metadata": {
        "colab": {
          "base_uri": "https://localhost:8080/"
        },
        "id": "EwTHaN8J3Vyw",
        "outputId": "3b0691cb-3461-4f65-e329-b086a4651a3a"
      },
      "source": [
        "from sklearn.model_selection import train_test_split\n",
        "import sklearn\n",
        "for i in range(20):\n",
        "  X_train, X_test, y_train, y_test = train_test_split(X, y, test_size = 0.1, random_state = i)\n",
        "  pipeline.fit(X_train,y_train)\n",
        "  y_pred = pipeline.predict(X_test)\n",
        "  print(f'Accuracy:{sklearn.metrics.accuracy_score(y_test,y_pred)}')\n",
        "\n"
      ],
      "execution_count": null,
      "outputs": [
        {
          "output_type": "stream",
          "text": [
            "Accuracy:0.7\n",
            "Accuracy:0.5\n",
            "Accuracy:0.4\n",
            "Accuracy:0.9\n",
            "Accuracy:0.6\n",
            "Accuracy:0.8\n",
            "Accuracy:0.7\n",
            "Accuracy:0.4\n",
            "Accuracy:0.8\n",
            "Accuracy:0.8\n",
            "Accuracy:0.7\n",
            "Accuracy:0.7\n",
            "Accuracy:0.8\n",
            "Accuracy:0.8\n",
            "Accuracy:0.5\n",
            "Accuracy:0.8\n",
            "Accuracy:0.8\n",
            "Accuracy:0.7\n",
            "Accuracy:0.7\n",
            "Accuracy:0.6\n"
          ],
          "name": "stdout"
        }
      ]
    },
    {
      "cell_type": "markdown",
      "metadata": {
        "id": "1UN2fGHyJSMP"
      },
      "source": [
        "**TODO**\n",
        "* Analogicznie wywołaj ```cross_val_predict()``` zastępując klasyfikator zdefiniowanym ciągiem przetwarzania ```pipeline```\n",
        "* Następnie, wyświetl macierz pomyłek"
      ]
    },
    {
      "cell_type": "code",
      "metadata": {
        "colab": {
          "base_uri": "https://localhost:8080/",
          "height": 633
        },
        "id": "Me7-XR2D3EmC",
        "outputId": "12e70096-69f1-4380-f32b-854abbeef415"
      },
      "source": [
        "y_pred = cross_val_predict(???,???,???< cv=10)\n",
        "conf_mat = ????\n",
        "????\n"
      ],
      "execution_count": null,
      "outputs": [
        {
          "output_type": "display_data",
          "data": {
            "image/png": "[encoded data removed]",
            "text/plain": [
              "<Figure size 720x720 with 2 Axes>"
            ]
          },
          "metadata": {
            "tags": [],
            "needs_background": "light"
          }
        }
      ]
    },
    {
      "cell_type": "markdown",
      "metadata": {
        "id": "iUs_WvD0L-Ts"
      },
      "source": [
        "### 2.4 Zbieramy metryki\n",
        "\n",
        "Zobaczmy jakie są zdefiniowane..."
      ]
    },
    {
      "cell_type": "code",
      "metadata": {
        "colab": {
          "base_uri": "https://localhost:8080/"
        },
        "id": "GOXW-31YnCKk",
        "outputId": "78c2c649-21e3-4c78-b852-68205d6f22cd"
      },
      "source": [
        "import sklearn\n",
        "sorted(sklearn.metrics.SCORERS.keys())"
      ],
      "execution_count": null,
      "outputs": [
        {
          "output_type": "execute_result",
          "data": {
            "text/plain": [
              "['accuracy',\n",
              " 'adjusted_mutual_info_score',\n",
              " 'adjusted_rand_score',\n",
              " 'average_precision',\n",
              " 'balanced_accuracy',\n",
              " 'completeness_score',\n",
              " 'explained_variance',\n",
              " 'f1',\n",
              " 'f1_macro',\n",
              " 'f1_micro',\n",
              " 'f1_samples',\n",
              " 'f1_weighted',\n",
              " 'fowlkes_mallows_score',\n",
              " 'homogeneity_score',\n",
              " 'jaccard',\n",
              " 'jaccard_macro',\n",
              " 'jaccard_micro',\n",
              " 'jaccard_samples',\n",
              " 'jaccard_weighted',\n",
              " 'max_error',\n",
              " 'mutual_info_score',\n",
              " 'neg_brier_score',\n",
              " 'neg_log_loss',\n",
              " 'neg_mean_absolute_error',\n",
              " 'neg_mean_gamma_deviance',\n",
              " 'neg_mean_poisson_deviance',\n",
              " 'neg_mean_squared_error',\n",
              " 'neg_mean_squared_log_error',\n",
              " 'neg_median_absolute_error',\n",
              " 'neg_root_mean_squared_error',\n",
              " 'normalized_mutual_info_score',\n",
              " 'precision',\n",
              " 'precision_macro',\n",
              " 'precision_micro',\n",
              " 'precision_samples',\n",
              " 'precision_weighted',\n",
              " 'r2',\n",
              " 'recall',\n",
              " 'recall_macro',\n",
              " 'recall_micro',\n",
              " 'recall_samples',\n",
              " 'recall_weighted',\n",
              " 'roc_auc',\n",
              " 'roc_auc_ovo',\n",
              " 'roc_auc_ovo_weighted',\n",
              " 'roc_auc_ovr',\n",
              " 'roc_auc_ovr_weighted',\n",
              " 'v_measure_score']"
            ]
          },
          "metadata": {
            "tags": []
          },
          "execution_count": 17
        }
      ]
    },
    {
      "cell_type": "markdown",
      "metadata": {
        "id": "ZIckCZJh7nMT"
      },
      "source": [
        "**TODO**\n",
        "* Zbierz następujące metryki: accuracy, precision, recall i F1 (trzy ostatnie w wersji makro) stosując walidację krzyzową\n",
        "* Wyznacz wartości średnie"
      ]
    },
    {
      "cell_type": "code",
      "metadata": {
        "colab": {
          "base_uri": "https://localhost:8080/"
        },
        "id": "c75J6sfVCGEp",
        "outputId": "2913f5cf-570b-4d73-c5c0-9781731f408b"
      },
      "source": [
        "scoring = [????]\n",
        "cv_results = cross_validate(pipeline, X, y, cv=10,scoring=scoring)\n",
        "print(cv_results)\n"
      ],
      "execution_count": null,
      "outputs": [
        {
          "output_type": "stream",
          "text": [
            "{'fit_time': array([0.00392675, 0.00172019, 0.00163436, 0.00155759, 0.00153351,\n",
            "       0.00310588, 0.00277615, 0.0064218 , 0.00354934, 0.00163817]), 'score_time': array([0.00818348, 0.0040741 , 0.00345922, 0.00336766, 0.00323153,\n",
            "       0.004915  , 0.00447321, 0.00668836, 0.00605726, 0.00348616]), 'test_accuracy': array([0.9, 0.6, 0.5, 0.8, 0.6, 0.9, 0.6, 0.8, 0.9, 0.5]), 'test_precision_macro': array([0.85      , 0.48333333, 0.43333333, 0.7       , 0.55      ,\n",
            "       0.85      , 0.5       , 0.7       , 0.85      , 0.38333333]), 'test_recall_macro': array([0.9, 0.6, 0.5, 0.8, 0.6, 0.9, 0.6, 0.8, 0.9, 0.5]), 'test_f1_macro': array([0.86666667, 0.51666667, 0.45      , 0.73333333, 0.56666667,\n",
            "       0.86666667, 0.53333333, 0.73333333, 0.86666667, 0.41666667])}\n"
          ],
          "name": "stdout"
        },
        {
          "output_type": "stream",
          "text": [
            "/usr/local/lib/python3.7/dist-packages/sklearn/metrics/_classification.py:1272: UndefinedMetricWarning: Precision is ill-defined and being set to 0.0 in labels with no predicted samples. Use `zero_division` parameter to control this behavior.\n",
            "  _warn_prf(average, modifier, msg_start, len(result))\n",
            "/usr/local/lib/python3.7/dist-packages/sklearn/metrics/_classification.py:1272: UndefinedMetricWarning: Precision is ill-defined and being set to 0.0 in labels with no predicted samples. Use `zero_division` parameter to control this behavior.\n",
            "  _warn_prf(average, modifier, msg_start, len(result))\n",
            "/usr/local/lib/python3.7/dist-packages/sklearn/metrics/_classification.py:1272: UndefinedMetricWarning: Precision is ill-defined and being set to 0.0 in labels with no predicted samples. Use `zero_division` parameter to control this behavior.\n",
            "  _warn_prf(average, modifier, msg_start, len(result))\n",
            "/usr/local/lib/python3.7/dist-packages/sklearn/metrics/_classification.py:1272: UndefinedMetricWarning: Precision is ill-defined and being set to 0.0 in labels with no predicted samples. Use `zero_division` parameter to control this behavior.\n",
            "  _warn_prf(average, modifier, msg_start, len(result))\n",
            "/usr/local/lib/python3.7/dist-packages/sklearn/metrics/_classification.py:1272: UndefinedMetricWarning: Precision is ill-defined and being set to 0.0 in labels with no predicted samples. Use `zero_division` parameter to control this behavior.\n",
            "  _warn_prf(average, modifier, msg_start, len(result))\n",
            "/usr/local/lib/python3.7/dist-packages/sklearn/metrics/_classification.py:1272: UndefinedMetricWarning: Precision is ill-defined and being set to 0.0 in labels with no predicted samples. Use `zero_division` parameter to control this behavior.\n",
            "  _warn_prf(average, modifier, msg_start, len(result))\n",
            "/usr/local/lib/python3.7/dist-packages/sklearn/metrics/_classification.py:1272: UndefinedMetricWarning: Precision is ill-defined and being set to 0.0 in labels with no predicted samples. Use `zero_division` parameter to control this behavior.\n",
            "  _warn_prf(average, modifier, msg_start, len(result))\n",
            "/usr/local/lib/python3.7/dist-packages/sklearn/metrics/_classification.py:1272: UndefinedMetricWarning: Precision is ill-defined and being set to 0.0 in labels with no predicted samples. Use `zero_division` parameter to control this behavior.\n",
            "  _warn_prf(average, modifier, msg_start, len(result))\n",
            "/usr/local/lib/python3.7/dist-packages/sklearn/metrics/_classification.py:1272: UndefinedMetricWarning: Precision is ill-defined and being set to 0.0 in labels with no predicted samples. Use `zero_division` parameter to control this behavior.\n",
            "  _warn_prf(average, modifier, msg_start, len(result))\n",
            "/usr/local/lib/python3.7/dist-packages/sklearn/metrics/_classification.py:1272: UndefinedMetricWarning: Precision is ill-defined and being set to 0.0 in labels with no predicted samples. Use `zero_division` parameter to control this behavior.\n",
            "  _warn_prf(average, modifier, msg_start, len(result))\n"
          ],
          "name": "stderr"
        }
      ]
    },
    {
      "cell_type": "code",
      "metadata": {
        "colab": {
          "base_uri": "https://localhost:8080/"
        },
        "id": "KiN2Z-R5D-46",
        "outputId": "0b2d47c2-a88b-4564-e9c9-4b4195dae234"
      },
      "source": [
        "acc= cv_results['test_accuracy'] ????\n",
        "prec= cv_results['test_precision_macro'] ????\n",
        "recall= cv_results['test_recall_macro'] ????\n",
        "f1= cv_results['test_f1_macro'] ????\n",
        "\n",
        "print(f'acc={acc} prec={prec} recall={recall} f1={f1}')\n"
      ],
      "execution_count": null,
      "outputs": [
        {
          "output_type": "stream",
          "text": [
            "acc=0.71 prec=0.63 recall=0.71 f1=0.6549999999999999\n"
          ],
          "name": "stdout"
        }
      ]
    },
    {
      "cell_type": "markdown",
      "metadata": {
        "id": "uiHZ75FEoIPN"
      },
      "source": [
        "## 3. Testy wielu klasyfikatorów"
      ]
    },
    {
      "cell_type": "markdown",
      "metadata": {
        "id": "oKVmPXOSHE-e"
      },
      "source": [
        "Dodamy funkcję, która zbuduje pipeline, wywoła cross_val_predict(), wyznaczy i wyświetli macierz pomyłek.\n",
        "\n",
        "**TODO**\n",
        "* Uzupełnij brakujący kod"
      ]
    },
    {
      "cell_type": "code",
      "metadata": {
        "id": "qdQ6ap4xHKLv"
      },
      "source": [
        "from sklearn.pipeline import make_pipeline\n",
        "from sklearn.model_selection import cross_val_predict\n",
        "from sklearn.metrics import confusion_matrix\n",
        "plt.rcParams[\"figure.figsize\"] = (10,10)\n",
        "\n",
        "\n",
        "def cv_show_confusion_matrix(X,y,labels,scaler,classifier,cv=10,title=None):\n",
        "  pipeline = ????\n",
        "  y_pred = ????\n",
        "  conf_mat = ????\n",
        "  if title is None:\n",
        "    title = scaler.__class__.__name__ + \" + \" + classifier.__class__.__name__\n",
        "  else:\n",
        "    title = title+': '+scaler.__class__.__name__ + \" + \" + classifier.__class__.__name__\n",
        "  make_confusion_matrix(conf_mat,categories=labels,title=title)\n"
      ],
      "execution_count": null,
      "outputs": []
    },
    {
      "cell_type": "markdown",
      "metadata": {
        "id": "187lnps9NI1E"
      },
      "source": [
        "Sprawdzimy, czy działa dla MultinomialMB. Użyjemy parametru ```feature_range=[1,2]```, aby przypadkowo nie dostarczać do ```MultinomialNB``` wartości ujemnych. W nowszej wersji biblioteki jest parametr ```clip``` (przytnij do zakresu)."
      ]
    },
    {
      "cell_type": "code",
      "metadata": {
        "colab": {
          "base_uri": "https://localhost:8080/",
          "height": 645
        },
        "id": "5XzKeJWVHDnl",
        "outputId": "aecf252d-c330-4b94-9d3b-1f9fbc55ab6e"
      },
      "source": [
        "from sklearn.naive_bayes import MultinomialNB\n",
        "from sklearn.preprocessing import MinMaxScaler\n",
        "cv_show_confusion_matrix(X,y,labels=le.classes_,scaler=MinMaxScaler(feature_range=(1,2)),classifier=MultinomialNB(alpha=0.1))"
      ],
      "execution_count": null,
      "outputs": [
        {
          "output_type": "display_data",
          "data": {
            "image/png": "[encoded data removed]",
            "text/plain": [
              "<Figure size 720x720 with 2 Axes>"
            ]
          },
          "metadata": {
            "tags": [],
            "needs_background": "light"
          }
        }
      ]
    },
    {
      "cell_type": "markdown",
      "metadata": {
        "id": "-OkY6TCTTRGS"
      },
      "source": [
        "### 3.1 Tworzymy listę konfiguracji i wyświetlamy macierze pomyłek"
      ]
    },
    {
      "cell_type": "code",
      "metadata": {
        "id": "13Chx8pEoPdZ"
      },
      "source": [
        "# Szukamy klasyfikatora\n",
        "from sklearn.preprocessing import MinMaxScaler\n",
        "from sklearn.preprocessing import StandardScaler\n",
        "from sklearn.linear_model import LogisticRegression\n",
        "from sklearn.naive_bayes import GaussianNB\n",
        "from sklearn.naive_bayes import MultinomialNB\n",
        "from sklearn.tree import DecisionTreeClassifier\n",
        "from sklearn.ensemble import RandomForestClassifier\n",
        "from sklearn.svm import SVC\n",
        "from sklearn.neighbors import KNeighborsClassifier\n",
        "\n",
        "configs={'gnb':[StandardScaler(),GaussianNB()],\n",
        "         'mnnb':[MinMaxScaler(feature_range=(1,2)),MultinomialNB(alpha=0.1)],\n",
        "         'logreg':[StandardScaler(),LogisticRegression()],\n",
        "         'dt-gini':[StandardScaler(),DecisionTreeClassifier(criterion='gini')],\n",
        "         'dt-ent':[StandardScaler(),DecisionTreeClassifier(criterion='entropy')],\n",
        "         'rf':[StandardScaler(),RandomForestClassifier(criterion='entropy')],\n",
        "         'svc-rbf':[StandardScaler(),SVC()],\n",
        "         'svc-poly':[StandardScaler(),SVC(kernel='poly',degree=2,C=1e5)],\n",
        "         '1nn':[StandardScaler(),KNeighborsClassifier(n_neighbors=1)],\n",
        "         '3nn':[StandardScaler(),KNeighborsClassifier(n_neighbors=3)],\n",
        "         '5nn':[StandardScaler(),KNeighborsClassifier(n_neighbors=5)],\n",
        "         }\n",
        "\n",
        "\n",
        "for k in configs:\n",
        "  cv_show_confusion_matrix(X,y,labels=le.classes_,scaler=configs[k][0],classifier=configs[k][1],title=k)"
      ],
      "execution_count": null,
      "outputs": []
    },
    {
      "cell_type": "markdown",
      "metadata": {
        "id": "XXUqD1Qmq8Hz"
      },
      "source": [
        "### 3.2 Testujemy wszystkie klasyfikatory stosując walidację krzyżową"
      ]
    },
    {
      "cell_type": "code",
      "metadata": {
        "id": "UvNGKVuvrJLz"
      },
      "source": [
        "from sklearn.model_selection import cross_validate\n",
        "from sklearn.utils import Bunch\n",
        "\n",
        "scoring = ['accuracy','precision_macro','recall_macro','f1_macro']\n",
        "results = Bunch()\n",
        "for k in configs:\n",
        "  pipeline = make_pipeline(configs[k][0], configs[k][1])\n",
        "  results[k] = cross_validate(pipeline, X, y, cv=10,scoring=scoring)\n",
        "\n"
      ],
      "execution_count": null,
      "outputs": []
    },
    {
      "cell_type": "markdown",
      "metadata": {
        "id": "IBBkHQ4GhBZk"
      },
      "source": [
        "Tym razem results jest słownikiem, który nazwie konfiguracji przypisuje wyniki walidacji krzyżowej. A wyniki to odwzorowanie metryka->lista rezultatów."
      ]
    },
    {
      "cell_type": "code",
      "metadata": {
        "colab": {
          "base_uri": "https://localhost:8080/",
          "height": 1000
        },
        "id": "teB3t6ZMtPJG",
        "outputId": "e61ac169-7393-47fa-eb4e-c0be16c9325d"
      },
      "source": [
        "# print(results)\n",
        "for k in results:\n",
        "  print(k)\n",
        "  print(results[k])\n",
        "\n",
        "rdf = pd.DataFrame(results)\n",
        "rdf.head(10)\n",
        "\n"
      ],
      "execution_count": null,
      "outputs": [
        {
          "output_type": "stream",
          "text": [
            "gnb\n",
            "{'fit_time': array([0.00245905, 0.00254273, 0.00585341, 0.00171137, 0.0016284 ,\n",
            "       0.00164866, 0.00163031, 0.00161242, 0.00161433, 0.00162601]), 'score_time': array([0.00562549, 0.00545812, 0.00421524, 0.00297785, 0.00303388,\n",
            "       0.0036571 , 0.00360179, 0.00354433, 0.00364614, 0.00387073]), 'test_accuracy': array([0.9, 0.6, 0.5, 0.8, 0.6, 0.9, 0.6, 0.8, 0.9, 0.5]), 'test_precision_macro': array([0.85      , 0.48333333, 0.43333333, 0.7       , 0.55      ,\n",
            "       0.85      , 0.5       , 0.7       , 0.85      , 0.38333333]), 'test_recall_macro': array([0.9, 0.6, 0.5, 0.8, 0.6, 0.9, 0.6, 0.8, 0.9, 0.5]), 'test_f1_macro': array([0.86666667, 0.51666667, 0.45      , 0.73333333, 0.56666667,\n",
            "       0.86666667, 0.53333333, 0.73333333, 0.86666667, 0.41666667])}\n",
            "mnnb\n",
            "{'fit_time': array([0.00129485, 0.00123477, 0.00117803, 0.00118399, 0.00122023,\n",
            "       0.00119734, 0.00119185, 0.00119352, 0.00119257, 0.00118542]), 'score_time': array([0.00333858, 0.00303149, 0.00369811, 0.00374579, 0.00325561,\n",
            "       0.00328374, 0.00291705, 0.00276947, 0.00326705, 0.00326109]), 'test_accuracy': array([0.8, 0.8, 0.6, 0.7, 0.7, 0.8, 0.7, 0.7, 0.9, 0.7]), 'test_precision_macro': array([0.7       , 0.75      , 0.48333333, 0.6       , 0.6       ,\n",
            "       0.73333333, 0.55      , 0.65      , 0.85      , 0.6       ]), 'test_recall_macro': array([0.8, 0.8, 0.6, 0.7, 0.7, 0.8, 0.7, 0.7, 0.9, 0.7]), 'test_f1_macro': array([0.73333333, 0.76666667, 0.51666667, 0.63333333, 0.63333333,\n",
            "       0.75      , 0.6       , 0.66666667, 0.86666667, 0.63333333])}\n",
            "logreg\n",
            "{'fit_time': array([0.02661943, 0.02749395, 0.02677083, 0.02925062, 0.02397943,\n",
            "       0.02713013, 0.03396106, 0.03203225, 0.02938223, 0.03091788]), 'score_time': array([0.00242591, 0.003232  , 0.00648904, 0.00293422, 0.00293922,\n",
            "       0.00294399, 0.00435424, 0.00481391, 0.0036149 , 0.00446892]), 'test_accuracy': array([1. , 0.8, 0.7, 0.7, 0.8, 0.8, 0.9, 0.8, 0.9, 0.6]), 'test_precision_macro': array([1.        , 0.7       , 0.55      , 0.55      , 0.75      ,\n",
            "       0.73333333, 0.85      , 0.7       , 0.85      , 0.45      ]), 'test_recall_macro': array([1. , 0.8, 0.7, 0.7, 0.8, 0.8, 0.9, 0.8, 0.9, 0.6]), 'test_f1_macro': array([1.        , 0.73333333, 0.6       , 0.6       , 0.76666667,\n",
            "       0.75      , 0.86666667, 0.73333333, 0.86666667, 0.5       ])}\n",
            "dt-gini\n",
            "{'fit_time': array([0.00378513, 0.00580764, 0.00381517, 0.00375175, 0.00405812,\n",
            "       0.00387549, 0.00372314, 0.00374126, 0.00420189, 0.00391388]), 'score_time': array([0.00385213, 0.00340509, 0.00331736, 0.0032773 , 0.00337648,\n",
            "       0.00337911, 0.00336456, 0.00326324, 0.00326896, 0.00326538]), 'test_accuracy': array([0.6, 0.4, 0.5, 0.5, 0.3, 0.6, 0.7, 0.5, 0.5, 0.4]), 'test_precision_macro': array([0.6       , 0.28333333, 0.38333333, 0.4       , 0.18333333,\n",
            "       0.5       , 0.65      , 0.33333333, 0.3       , 0.18333333]), 'test_recall_macro': array([0.6, 0.4, 0.5, 0.5, 0.3, 0.6, 0.7, 0.5, 0.5, 0.4]), 'test_f1_macro': array([0.6       , 0.31666667, 0.41666667, 0.43333333, 0.21666667,\n",
            "       0.53333333, 0.66666667, 0.38333333, 0.36666667, 0.25      ])}\n",
            "dt-ent\n",
            "{'fit_time': array([0.01073217, 0.01065445, 0.0121839 , 0.01486778, 0.01091719,\n",
            "       0.010993  , 0.01067448, 0.01476264, 0.01161504, 0.01164007]), 'score_time': array([0.00352049, 0.00343871, 0.00544357, 0.00288391, 0.00287056,\n",
            "       0.00284624, 0.00272226, 0.00410914, 0.00386667, 0.00349402]), 'test_accuracy': array([0.6, 0.2, 0.5, 0.6, 0.5, 0.6, 0.7, 0.6, 0.7, 0.5]), 'test_precision_macro': array([0.5       , 0.15      , 0.35      , 0.5       , 0.4       ,\n",
            "       0.48333333, 0.65      , 0.55      , 0.6       , 0.28333333]), 'test_recall_macro': array([0.6, 0.2, 0.5, 0.6, 0.5, 0.6, 0.7, 0.6, 0.7, 0.5]), 'test_f1_macro': array([0.53333333, 0.16666667, 0.4       , 0.53333333, 0.43333333,\n",
            "       0.51666667, 0.66666667, 0.56666667, 0.63333333, 0.35      ])}\n",
            "rf\n",
            "{'fit_time': array([0.20742011, 0.21255922, 0.2102263 , 0.21751356, 0.22332144,\n",
            "       0.22047997, 0.23228312, 0.22850394, 0.20725107, 0.21482921]), 'score_time': array([0.01045012, 0.01139784, 0.0123353 , 0.01275873, 0.01301622,\n",
            "       0.01103854, 0.0112474 , 0.01147842, 0.01040268, 0.01134729]), 'test_accuracy': array([0.8, 0.7, 0.5, 0.8, 0.9, 0.9, 0.6, 0.9, 0.8, 0.6]), 'test_precision_macro': array([0.7       , 0.625     , 0.4       , 0.7       , 0.85      ,\n",
            "       0.85      , 0.48333333, 0.85      , 0.7       , 0.45      ]), 'test_recall_macro': array([0.8, 0.7, 0.5, 0.8, 0.9, 0.9, 0.6, 0.9, 0.8, 0.6]), 'test_f1_macro': array([0.73333333, 0.64      , 0.43333333, 0.73333333, 0.86666667,\n",
            "       0.86666667, 0.51666667, 0.86666667, 0.73333333, 0.5       ])}\n",
            "svc-rbf\n",
            "{'fit_time': array([0.0039463 , 0.00397134, 0.00390029, 0.00425887, 0.00404739,\n",
            "       0.00413561, 0.00409031, 0.00465775, 0.00463152, 0.00441456]), 'score_time': array([0.00308633, 0.00369787, 0.0031743 , 0.00332499, 0.003474  ,\n",
            "       0.00387335, 0.00384569, 0.00394082, 0.00384688, 0.00373244]), 'test_accuracy': array([0.7, 0.7, 0.8, 0.8, 0.7, 0.8, 0.9, 0.9, 0.7, 0.7]), 'test_precision_macro': array([0.6       , 0.6       , 0.7       , 0.7       , 0.55      ,\n",
            "       0.73333333, 0.85      , 0.85      , 0.6       , 0.55      ]), 'test_recall_macro': array([0.7, 0.7, 0.8, 0.8, 0.7, 0.8, 0.9, 0.9, 0.7, 0.7]), 'test_f1_macro': array([0.63333333, 0.63333333, 0.73333333, 0.73333333, 0.6       ,\n",
            "       0.75      , 0.86666667, 0.86666667, 0.63333333, 0.6       ])}\n",
            "svc-poly\n",
            "{'fit_time': array([0.00378299, 0.00374794, 0.00510216, 0.00375199, 0.00377798,\n",
            "       0.00389719, 0.00382543, 0.00376081, 0.00376678, 0.00376892]), 'score_time': array([0.00372696, 0.00426245, 0.00373244, 0.00345731, 0.00378442,\n",
            "       0.00377703, 0.00371075, 0.00375485, 0.00385404, 0.00389504]), 'test_accuracy': array([0.7, 0.6, 0.5, 0.8, 0.8, 0.7, 0.7, 0.8, 0.7, 0.6]), 'test_precision_macro': array([0.65      , 0.45      , 0.33333333, 0.7       , 0.7       ,\n",
            "       0.58333333, 0.55      , 0.7       , 0.6       , 0.43333333]), 'test_recall_macro': array([0.7, 0.6, 0.5, 0.8, 0.8, 0.7, 0.7, 0.8, 0.7, 0.6]), 'test_f1_macro': array([0.66666667, 0.5       , 0.38333333, 0.73333333, 0.73333333,\n",
            "       0.61666667, 0.6       , 0.73333333, 0.63333333, 0.48333333])}\n",
            "1nn\n",
            "{'fit_time': array([0.00135016, 0.0013535 , 0.00124598, 0.00120378, 0.00120544,\n",
            "       0.00207686, 0.00123954, 0.00121188, 0.00117636, 0.00115347]), 'score_time': array([0.00425649, 0.00462818, 0.00427794, 0.00437093, 0.00551724,\n",
            "       0.00721741, 0.00318909, 0.00425434, 0.00417566, 0.0040009 ]), 'test_accuracy': array([0.5, 0.7, 0.7, 0.7, 0.7, 0.8, 1. , 0.7, 0.7, 0.5]), 'test_precision_macro': array([0.45      , 0.65      , 0.63333333, 0.55      , 0.6       ,\n",
            "       0.73333333, 1.        , 0.6       , 0.58333333, 0.38333333]), 'test_recall_macro': array([0.5, 0.7, 0.7, 0.7, 0.7, 0.8, 1. , 0.7, 0.7, 0.5]), 'test_f1_macro': array([0.46666667, 0.66666667, 0.65      , 0.6       , 0.63333333,\n",
            "       0.75      , 1.        , 0.63333333, 0.61666667, 0.41666667])}\n",
            "3nn\n",
            "{'fit_time': array([0.00142622, 0.00119877, 0.00116897, 0.00130057, 0.00119758,\n",
            "       0.001194  , 0.00115943, 0.00117326, 0.0011518 , 0.00117564]), 'score_time': array([0.00415039, 0.00372314, 0.0046649 , 0.00441027, 0.00427651,\n",
            "       0.00423193, 0.00445509, 0.00389242, 0.00473976, 0.00417519]), 'test_accuracy': array([0.5, 0.6, 0.7, 0.7, 0.6, 0.8, 0.7, 0.6, 0.8, 0.6]), 'test_precision_macro': array([0.4       , 0.43333333, 0.55      , 0.55      , 0.48333333,\n",
            "       0.73333333, 0.55      , 0.45      , 0.7       , 0.45      ]), 'test_recall_macro': array([0.5, 0.6, 0.7, 0.7, 0.6, 0.8, 0.7, 0.6, 0.8, 0.6]), 'test_f1_macro': array([0.43333333, 0.48333333, 0.6       , 0.6       , 0.51666667,\n",
            "       0.75      , 0.6       , 0.5       , 0.73333333, 0.5       ])}\n",
            "5nn\n",
            "{'fit_time': array([0.00111961, 0.00159001, 0.00115657, 0.00260282, 0.00121546,\n",
            "       0.00119495, 0.00115609, 0.00118494, 0.00169778, 0.00118661]), 'score_time': array([0.00434303, 0.00424814, 0.00474238, 0.00670314, 0.00419545,\n",
            "       0.00417972, 0.00417519, 0.00440598, 0.00391173, 0.00425982]), 'test_accuracy': array([0.6, 0.7, 0.6, 0.7, 0.5, 0.8, 0.7, 0.7, 0.9, 0.6]), 'test_precision_macro': array([0.5       , 0.63333333, 0.4       , 0.58333333, 0.38333333,\n",
            "       0.73333333, 0.58333333, 0.6       , 0.85      , 0.5       ]), 'test_recall_macro': array([0.6, 0.7, 0.6, 0.7, 0.5, 0.8, 0.7, 0.7, 0.9, 0.6]), 'test_f1_macro': array([0.53333333, 0.65      , 0.46666667, 0.61666667, 0.41666667,\n",
            "       0.75      , 0.61666667, 0.63333333, 0.86666667, 0.53333333])}\n"
          ],
          "name": "stdout"
        },
        {
          "output_type": "execute_result",
          "data": {
            "text/html": [
              "<div>\n",
              "<style scoped>\n",
              "    .dataframe tbody tr th:only-of-type {\n",
              "        vertical-align: middle;\n",
              "    }\n",
              "\n",
              "    .dataframe tbody tr th {\n",
              "        vertical-align: top;\n",
              "    }\n",
              "\n",
              "    .dataframe thead th {\n",
              "        text-align: right;\n",
              "    }\n",
              "</style>\n",
              "<table border=\"1\" class=\"dataframe\">\n",
              "  <thead>\n",
              "    <tr style=\"text-align: right;\">\n",
              "      <th></th>\n",
              "      <th>gnb</th>\n",
              "      <th>mnnb</th>\n",
              "      <th>logreg</th>\n",
              "      <th>dt-gini</th>\n",
              "      <th>dt-ent</th>\n",
              "      <th>rf</th>\n",
              "      <th>svc-rbf</th>\n",
              "      <th>svc-poly</th>\n",
              "      <th>1nn</th>\n",
              "      <th>3nn</th>\n",
              "      <th>5nn</th>\n",
              "    </tr>\n",
              "  </thead>\n",
              "  <tbody>\n",
              "    <tr>\n",
              "      <th>fit_time</th>\n",
              "      <td>[0.0024590492248535156, 0.002542734146118164, ...</td>\n",
              "      <td>[0.001294851303100586, 0.0012347698211669922, ...</td>\n",
              "      <td>[0.026619434356689453, 0.027493953704833984, 0...</td>\n",
              "      <td>[0.0037851333618164062, 0.005807638168334961, ...</td>\n",
              "      <td>[0.010732173919677734, 0.010654449462890625, 0...</td>\n",
              "      <td>[0.20742011070251465, 0.21255922317504883, 0.2...</td>\n",
              "      <td>[0.0039463043212890625, 0.0039713382720947266,...</td>\n",
              "      <td>[0.003782987594604492, 0.0037479400634765625, ...</td>\n",
              "      <td>[0.0013501644134521484, 0.0013535022735595703,...</td>\n",
              "      <td>[0.0014262199401855469, 0.0011987686157226562,...</td>\n",
              "      <td>[0.0011196136474609375, 0.0015900135040283203,...</td>\n",
              "    </tr>\n",
              "    <tr>\n",
              "      <th>score_time</th>\n",
              "      <td>[0.005625486373901367, 0.00545811653137207, 0....</td>\n",
              "      <td>[0.0033385753631591797, 0.003031492233276367, ...</td>\n",
              "      <td>[0.0024259090423583984, 0.0032320022583007812,...</td>\n",
              "      <td>[0.0038521289825439453, 0.0034050941467285156,...</td>\n",
              "      <td>[0.003520488739013672, 0.003438711166381836, 0...</td>\n",
              "      <td>[0.010450124740600586, 0.011397838592529297, 0...</td>\n",
              "      <td>[0.0030863285064697266, 0.0036978721618652344,...</td>\n",
              "      <td>[0.003726959228515625, 0.004262447357177734, 0...</td>\n",
              "      <td>[0.004256486892700195, 0.004628181457519531, 0...</td>\n",
              "      <td>[0.004150390625, 0.00372314453125, 0.004664897...</td>\n",
              "      <td>[0.0043430328369140625, 0.004248142242431641, ...</td>\n",
              "    </tr>\n",
              "    <tr>\n",
              "      <th>test_accuracy</th>\n",
              "      <td>[0.9, 0.6, 0.5, 0.8, 0.6, 0.9, 0.6, 0.8, 0.9, ...</td>\n",
              "      <td>[0.8, 0.8, 0.6, 0.7, 0.7, 0.8, 0.7, 0.7, 0.9, ...</td>\n",
              "      <td>[1.0, 0.8, 0.7, 0.7, 0.8, 0.8, 0.9, 0.8, 0.9, ...</td>\n",
              "      <td>[0.6, 0.4, 0.5, 0.5, 0.3, 0.6, 0.7, 0.5, 0.5, ...</td>\n",
              "      <td>[0.6, 0.2, 0.5, 0.6, 0.5, 0.6, 0.7, 0.6, 0.7, ...</td>\n",
              "      <td>[0.8, 0.7, 0.5, 0.8, 0.9, 0.9, 0.6, 0.9, 0.8, ...</td>\n",
              "      <td>[0.7, 0.7, 0.8, 0.8, 0.7, 0.8, 0.9, 0.9, 0.7, ...</td>\n",
              "      <td>[0.7, 0.6, 0.5, 0.8, 0.8, 0.7, 0.7, 0.8, 0.7, ...</td>\n",
              "      <td>[0.5, 0.7, 0.7, 0.7, 0.7, 0.8, 1.0, 0.7, 0.7, ...</td>\n",
              "      <td>[0.5, 0.6, 0.7, 0.7, 0.6, 0.8, 0.7, 0.6, 0.8, ...</td>\n",
              "      <td>[0.6, 0.7, 0.6, 0.7, 0.5, 0.8, 0.7, 0.7, 0.9, ...</td>\n",
              "    </tr>\n",
              "    <tr>\n",
              "      <th>test_precision_macro</th>\n",
              "      <td>[0.85, 0.4833333333333333, 0.4333333333333333,...</td>\n",
              "      <td>[0.7, 0.75, 0.4833333333333333, 0.6, 0.6, 0.73...</td>\n",
              "      <td>[1.0, 0.7, 0.55, 0.55, 0.75, 0.733333333333333...</td>\n",
              "      <td>[0.6, 0.2833333333333333, 0.38333333333333336,...</td>\n",
              "      <td>[0.5, 0.15, 0.35, 0.5, 0.4, 0.4833333333333333...</td>\n",
              "      <td>[0.7, 0.625, 0.4, 0.7, 0.85, 0.85, 0.483333333...</td>\n",
              "      <td>[0.6, 0.6, 0.7, 0.7, 0.55, 0.7333333333333333,...</td>\n",
              "      <td>[0.65, 0.45, 0.3333333333333333, 0.7, 0.7, 0.5...</td>\n",
              "      <td>[0.45, 0.65, 0.6333333333333333, 0.55, 0.6, 0....</td>\n",
              "      <td>[0.4, 0.4333333333333333, 0.55, 0.55, 0.483333...</td>\n",
              "      <td>[0.5, 0.6333333333333333, 0.4, 0.5833333333333...</td>\n",
              "    </tr>\n",
              "    <tr>\n",
              "      <th>test_recall_macro</th>\n",
              "      <td>[0.9, 0.6, 0.5, 0.8, 0.6, 0.9, 0.6, 0.8, 0.9, ...</td>\n",
              "      <td>[0.8, 0.8, 0.6, 0.7, 0.7, 0.8, 0.7, 0.7, 0.9, ...</td>\n",
              "      <td>[1.0, 0.8, 0.7, 0.7, 0.8, 0.8, 0.9, 0.8, 0.9, ...</td>\n",
              "      <td>[0.6, 0.4, 0.5, 0.5, 0.3, 0.6, 0.7, 0.5, 0.5, ...</td>\n",
              "      <td>[0.6, 0.2, 0.5, 0.6, 0.5, 0.6, 0.7, 0.6, 0.7, ...</td>\n",
              "      <td>[0.8, 0.7, 0.5, 0.8, 0.9, 0.9, 0.6, 0.9, 0.8, ...</td>\n",
              "      <td>[0.7, 0.7, 0.8, 0.8, 0.7, 0.8, 0.9, 0.9, 0.7, ...</td>\n",
              "      <td>[0.7, 0.6, 0.5, 0.8, 0.8, 0.7, 0.7, 0.8, 0.7, ...</td>\n",
              "      <td>[0.5, 0.7, 0.7, 0.7, 0.7, 0.8, 1.0, 0.7, 0.7, ...</td>\n",
              "      <td>[0.5, 0.6, 0.7, 0.7, 0.6, 0.8, 0.7, 0.6, 0.8, ...</td>\n",
              "      <td>[0.6, 0.7, 0.6, 0.7, 0.5, 0.8, 0.7, 0.7, 0.9, ...</td>\n",
              "    </tr>\n",
              "    <tr>\n",
              "      <th>test_f1_macro</th>\n",
              "      <td>[0.8666666666666666, 0.5166666666666667, 0.45,...</td>\n",
              "      <td>[0.7333333333333333, 0.7666666666666666, 0.516...</td>\n",
              "      <td>[1.0, 0.7333333333333333, 0.6, 0.6, 0.76666666...</td>\n",
              "      <td>[0.6, 0.31666666666666665, 0.41666666666666663...</td>\n",
              "      <td>[0.5333333333333333, 0.16666666666666666, 0.4,...</td>\n",
              "      <td>[0.7333333333333333, 0.64, 0.4333333333333333,...</td>\n",
              "      <td>[0.6333333333333333, 0.6333333333333333, 0.733...</td>\n",
              "      <td>[0.6666666666666666, 0.5, 0.3833333333333333, ...</td>\n",
              "      <td>[0.4666666666666666, 0.6666666666666666, 0.65,...</td>\n",
              "      <td>[0.4333333333333333, 0.4833333333333333, 0.6, ...</td>\n",
              "      <td>[0.5333333333333333, 0.65, 0.4666666666666666,...</td>\n",
              "    </tr>\n",
              "  </tbody>\n",
              "</table>\n",
              "</div>"
            ],
            "text/plain": [
              "                                                                    gnb  ...                                                5nn\n",
              "fit_time              [0.0024590492248535156, 0.002542734146118164, ...  ...  [0.0011196136474609375, 0.0015900135040283203,...\n",
              "score_time            [0.005625486373901367, 0.00545811653137207, 0....  ...  [0.0043430328369140625, 0.004248142242431641, ...\n",
              "test_accuracy         [0.9, 0.6, 0.5, 0.8, 0.6, 0.9, 0.6, 0.8, 0.9, ...  ...  [0.6, 0.7, 0.6, 0.7, 0.5, 0.8, 0.7, 0.7, 0.9, ...\n",
              "test_precision_macro  [0.85, 0.4833333333333333, 0.4333333333333333,...  ...  [0.5, 0.6333333333333333, 0.4, 0.5833333333333...\n",
              "test_recall_macro     [0.9, 0.6, 0.5, 0.8, 0.6, 0.9, 0.6, 0.8, 0.9, ...  ...  [0.6, 0.7, 0.6, 0.7, 0.5, 0.8, 0.7, 0.7, 0.9, ...\n",
              "test_f1_macro         [0.8666666666666666, 0.5166666666666667, 0.45,...  ...  [0.5333333333333333, 0.65, 0.4666666666666666,...\n",
              "\n",
              "[6 rows x 11 columns]"
            ]
          },
          "metadata": {
            "tags": []
          },
          "execution_count": 24
        }
      ]
    },
    {
      "cell_type": "markdown",
      "metadata": {
        "id": "3X-jsM9bhfro"
      },
      "source": [
        "**TODO**\n",
        "* Rozpakujmy te wyniki, tak aby w tabeli summary znalazły się wiersze podające średnie wartości metryk dla poszczególnych klasyfikatorów."
      ]
    },
    {
      "cell_type": "code",
      "metadata": {
        "colab": {
          "base_uri": "https://localhost:8080/",
          "height": 386
        },
        "id": "pdXzfCCEvfvI",
        "outputId": "239a119b-5147-4843-f333-0b389656b12e"
      },
      "source": [
        "summary = pd.DataFrame(columns=['classifier','acc','prec','recall','f1'])\n",
        "for k in results:\n",
        "  row=[???, ???, ???,????,????]\n",
        "  # print(row)\n",
        "  summary.loc[len(summary),:]=row\n",
        "summary.head(20)\n",
        "\n"
      ],
      "execution_count": null,
      "outputs": [
        {
          "output_type": "execute_result",
          "data": {
            "text/html": [
              "<div>\n",
              "<style scoped>\n",
              "    .dataframe tbody tr th:only-of-type {\n",
              "        vertical-align: middle;\n",
              "    }\n",
              "\n",
              "    .dataframe tbody tr th {\n",
              "        vertical-align: top;\n",
              "    }\n",
              "\n",
              "    .dataframe thead th {\n",
              "        text-align: right;\n",
              "    }\n",
              "</style>\n",
              "<table border=\"1\" class=\"dataframe\">\n",
              "  <thead>\n",
              "    <tr style=\"text-align: right;\">\n",
              "      <th></th>\n",
              "      <th>classifier</th>\n",
              "      <th>acc</th>\n",
              "      <th>prec</th>\n",
              "      <th>recall</th>\n",
              "      <th>f1</th>\n",
              "    </tr>\n",
              "  </thead>\n",
              "  <tbody>\n",
              "    <tr>\n",
              "      <th>0</th>\n",
              "      <td>gnb</td>\n",
              "      <td>0.71</td>\n",
              "      <td>0.63</td>\n",
              "      <td>0.71</td>\n",
              "      <td>0.655</td>\n",
              "    </tr>\n",
              "    <tr>\n",
              "      <th>1</th>\n",
              "      <td>mnnb</td>\n",
              "      <td>0.74</td>\n",
              "      <td>0.651667</td>\n",
              "      <td>0.74</td>\n",
              "      <td>0.68</td>\n",
              "    </tr>\n",
              "    <tr>\n",
              "      <th>2</th>\n",
              "      <td>logreg</td>\n",
              "      <td>0.8</td>\n",
              "      <td>0.713333</td>\n",
              "      <td>0.8</td>\n",
              "      <td>0.741667</td>\n",
              "    </tr>\n",
              "    <tr>\n",
              "      <th>3</th>\n",
              "      <td>dt-gini</td>\n",
              "      <td>0.5</td>\n",
              "      <td>0.381667</td>\n",
              "      <td>0.5</td>\n",
              "      <td>0.418333</td>\n",
              "    </tr>\n",
              "    <tr>\n",
              "      <th>4</th>\n",
              "      <td>dt-ent</td>\n",
              "      <td>0.55</td>\n",
              "      <td>0.446667</td>\n",
              "      <td>0.55</td>\n",
              "      <td>0.48</td>\n",
              "    </tr>\n",
              "    <tr>\n",
              "      <th>5</th>\n",
              "      <td>rf</td>\n",
              "      <td>0.75</td>\n",
              "      <td>0.660833</td>\n",
              "      <td>0.75</td>\n",
              "      <td>0.689</td>\n",
              "    </tr>\n",
              "    <tr>\n",
              "      <th>6</th>\n",
              "      <td>svc-rbf</td>\n",
              "      <td>0.77</td>\n",
              "      <td>0.673333</td>\n",
              "      <td>0.77</td>\n",
              "      <td>0.705</td>\n",
              "    </tr>\n",
              "    <tr>\n",
              "      <th>7</th>\n",
              "      <td>svc-poly</td>\n",
              "      <td>0.69</td>\n",
              "      <td>0.57</td>\n",
              "      <td>0.69</td>\n",
              "      <td>0.608333</td>\n",
              "    </tr>\n",
              "    <tr>\n",
              "      <th>8</th>\n",
              "      <td>1nn</td>\n",
              "      <td>0.7</td>\n",
              "      <td>0.618333</td>\n",
              "      <td>0.7</td>\n",
              "      <td>0.643333</td>\n",
              "    </tr>\n",
              "    <tr>\n",
              "      <th>9</th>\n",
              "      <td>3nn</td>\n",
              "      <td>0.66</td>\n",
              "      <td>0.53</td>\n",
              "      <td>0.66</td>\n",
              "      <td>0.571667</td>\n",
              "    </tr>\n",
              "    <tr>\n",
              "      <th>10</th>\n",
              "      <td>5nn</td>\n",
              "      <td>0.68</td>\n",
              "      <td>0.576667</td>\n",
              "      <td>0.68</td>\n",
              "      <td>0.608333</td>\n",
              "    </tr>\n",
              "  </tbody>\n",
              "</table>\n",
              "</div>"
            ],
            "text/plain": [
              "   classifier   acc      prec recall        f1\n",
              "0         gnb  0.71      0.63   0.71     0.655\n",
              "1        mnnb  0.74  0.651667   0.74      0.68\n",
              "2      logreg   0.8  0.713333    0.8  0.741667\n",
              "3     dt-gini   0.5  0.381667    0.5  0.418333\n",
              "4      dt-ent  0.55  0.446667   0.55      0.48\n",
              "5          rf  0.75  0.660833   0.75     0.689\n",
              "6     svc-rbf  0.77  0.673333   0.77     0.705\n",
              "7    svc-poly  0.69      0.57   0.69  0.608333\n",
              "8         1nn   0.7  0.618333    0.7  0.643333\n",
              "9         3nn  0.66      0.53   0.66  0.571667\n",
              "10        5nn  0.68  0.576667   0.68  0.608333"
            ]
          },
          "metadata": {
            "tags": []
          },
          "execution_count": 25
        }
      ]
    },
    {
      "cell_type": "markdown",
      "metadata": {
        "id": "RsuRieA77HnS"
      },
      "source": [
        "### 3.3 Boxplots\n",
        "\n",
        "Rysujemy wykres *boxplots*. Przeczytaj, jak należy go interpretować [Wikipedia](https://en.wikipedia.org/wiki/Box_plot)"
      ]
    },
    {
      "cell_type": "code",
      "metadata": {
        "colab": {
          "base_uri": "https://localhost:8080/",
          "height": 607
        },
        "id": "aJvQIlQV7JgC",
        "outputId": "6b1051e3-73e6-4b9b-94e2-9189eca32e35"
      },
      "source": [
        "labels=[]\n",
        "data=[]\n",
        "for k in results:\n",
        "  labels.append(k)\n",
        "  data.append(results[k]['test_accuracy'])\n",
        "  plt.boxplot(data,vert=True,  # vertical box alignment\n",
        "                  patch_artist=True,  # fill with color\n",
        "                  labels=labels)\n",
        "  plt.title('Accuracy')\n"
      ],
      "execution_count": null,
      "outputs": [
        {
          "output_type": "display_data",
          "data": {
            "image/png": "[encoded data removed]",
            "text/plain": [
              "<Figure size 720x720 with 1 Axes>"
            ]
          },
          "metadata": {
            "tags": [],
            "needs_background": "light"
          }
        }
      ]
    },
    {
      "cell_type": "markdown",
      "metadata": {
        "id": "HnLPDwyaj7ey"
      },
      "source": [
        "**TODO**\n",
        "* Obserwując wartości F1, który klasyfikator wydaje się najlepszy (dla tego zbioru danych)\n",
        "* Czy 1nn jest \"lepszy\" niż 3nn?"
      ]
    },
    {
      "cell_type": "code",
      "metadata": {
        "colab": {
          "base_uri": "https://localhost:8080/",
          "height": 607
        },
        "id": "m9vUlwhEUkB5",
        "outputId": "28bba0cc-65d3-4a1a-e06d-d2f8744099f1"
      },
      "source": [
        "labels=[]\n",
        "data=[]\n",
        "for k in results:\n",
        "  labels.append(k)\n",
        "  data.append(results[k]['test_f1_macro'])\n",
        "  plt.boxplot(data,vert=True,  # vertical box alignment\n",
        "                  patch_artist=True,  # fill with color\n",
        "                  labels=labels)\n",
        "  plt.title('F1')\n"
      ],
      "execution_count": null,
      "outputs": [
        {
          "output_type": "display_data",
          "data": {
            "image/png": "[encoded data removed]",
            "text/plain": [
              "<Figure size 720x720 with 1 Axes>"
            ]
          },
          "metadata": {
            "tags": [],
            "needs_background": "light"
          }
        }
      ]
    },
    {
      "cell_type": "markdown",
      "metadata": {
        "id": "_HWnH2dKkVhl"
      },
      "source": [
        "## 4. Optymalizacja parametrów\n",
        "Zakładając, że mamy zbiory parametrów $A$, $B$, $C$,...,$Z$ procedura *grid search* bada wszystkie kombinacje ze zbioru $A \\times B \\times C \\times \\dots Z$, natomiast *random search* losowo wybiera określoną liczbę kombinacji.\n"
      ]
    },
    {
      "cell_type": "markdown",
      "metadata": {
        "id": "VI9ViAxFns51"
      },
      "source": [
        "### 4.1 Grid search\n",
        "\n",
        "Zastosujemy do regresji logistycznej. W rzeczywistości będziemy dobierali tylko jeden parameter."
      ]
    },
    {
      "cell_type": "code",
      "metadata": {
        "colab": {
          "base_uri": "https://localhost:8080/"
        },
        "id": "nGlsprr-kfUV",
        "outputId": "ec6ecb6a-adcd-4a10-b614-ce6ca1dddadf"
      },
      "source": [
        "from sklearn.model_selection import GridSearchCV\n",
        "pipeline = make_pipeline(configs['logreg'][0], configs['logreg'][1])\n",
        "pipeline\n"
      ],
      "execution_count": null,
      "outputs": [
        {
          "output_type": "execute_result",
          "data": {
            "text/plain": [
              "Pipeline(memory=None,\n",
              "         steps=[('standardscaler',\n",
              "                 StandardScaler(copy=True, with_mean=True, with_std=True)),\n",
              "                ('logisticregression',\n",
              "                 LogisticRegression(C=1.0, class_weight=None, dual=False,\n",
              "                                    fit_intercept=True, intercept_scaling=1,\n",
              "                                    l1_ratio=None, max_iter=100,\n",
              "                                    multi_class='auto', n_jobs=None,\n",
              "                                    penalty='l2', random_state=None,\n",
              "                                    solver='lbfgs', tol=0.0001, verbose=0,\n",
              "                                    warm_start=False))],\n",
              "         verbose=False)"
            ]
          },
          "metadata": {
            "tags": []
          },
          "execution_count": 36
        }
      ]
    },
    {
      "cell_type": "markdown",
      "metadata": {
        "id": "0t0MeNh6lUHQ"
      },
      "source": [
        "StandardScaler nie ma zbyt wielu parametrów, ale LogisticRegresion można dobierać stałą regularyzacji C.\n",
        "\n",
        "Sprawdźmy, jakie nazwy maja parametry dla pipeline...\n"
      ]
    },
    {
      "cell_type": "code",
      "metadata": {
        "colab": {
          "base_uri": "https://localhost:8080/"
        },
        "id": "X3hgy6jRnsWt",
        "outputId": "d944233f-7638-42e7-d0af-67bcca0f0fe6"
      },
      "source": [
        "pipeline.get_params().keys()"
      ],
      "execution_count": null,
      "outputs": [
        {
          "output_type": "execute_result",
          "data": {
            "text/plain": [
              "dict_keys(['memory', 'steps', 'verbose', 'standardscaler', 'logisticregression', 'standardscaler__copy', 'standardscaler__with_mean', 'standardscaler__with_std', 'logisticregression__C', 'logisticregression__class_weight', 'logisticregression__dual', 'logisticregression__fit_intercept', 'logisticregression__intercept_scaling', 'logisticregression__l1_ratio', 'logisticregression__max_iter', 'logisticregression__multi_class', 'logisticregression__n_jobs', 'logisticregression__penalty', 'logisticregression__random_state', 'logisticregression__solver', 'logisticregression__tol', 'logisticregression__verbose', 'logisticregression__warm_start'])"
            ]
          },
          "metadata": {
            "tags": []
          },
          "execution_count": 37
        }
      ]
    },
    {
      "cell_type": "code",
      "metadata": {
        "id": "mZl3_uU7lzgk"
      },
      "source": [
        "\n",
        "C=[100,50,20,10,8,5,3,2,1.0,0.8,0.5,0.2,0.1,0.05]\n",
        "print(C)\n",
        "params={'logisticregression__C':C}\n",
        "grid = GridSearchCV(pipeline, params, scoring=\"f1_macro\",cv=10, verbose=3)\n",
        "grid.fit(X, y)\n",
        "grid.best_params_"
      ],
      "execution_count": null,
      "outputs": []
    },
    {
      "cell_type": "code",
      "metadata": {
        "id": "Pnggk3rl9sSa"
      },
      "source": [
        "pipeline=make_pipeline(StandardScaler(), LogisticRegression(C=grid.best_params_['logisticregression__C']))\n",
        "scoring = ['accuracy','precision_macro','recall_macro','f1_macro']\n",
        "# scoring = scoring=['accuracy','f1_macro']\n",
        "cv_results = cross_validate(pipeline, X, y, cv=10,scoring=scoring)\n",
        "for k in cv_results:\n",
        "  print(f'{k}={cv_results[k].mean()}')"
      ],
      "execution_count": null,
      "outputs": []
    },
    {
      "cell_type": "markdown",
      "metadata": {
        "id": "e3Xp4VUCn2lr"
      },
      "source": [
        "### 4.2 Random search\n",
        "\n",
        "Zastosujemy do SVM z kernelem RBF."
      ]
    },
    {
      "cell_type": "code",
      "metadata": {
        "colab": {
          "base_uri": "https://localhost:8080/"
        },
        "id": "hE7TEgN4n44g",
        "outputId": "2ee039f9-c9f4-4d00-80a9-658c4ef8501f"
      },
      "source": [
        "from sklearn.model_selection import RandomizedSearchCV\n",
        "pipeline = make_pipeline(configs['svc-rbf'][0], configs['svc-rbf'][1])\n",
        "pipeline\n"
      ],
      "execution_count": null,
      "outputs": [
        {
          "output_type": "execute_result",
          "data": {
            "text/plain": [
              "Pipeline(memory=None,\n",
              "         steps=[('standardscaler',\n",
              "                 StandardScaler(copy=True, with_mean=True, with_std=True)),\n",
              "                ('svc',\n",
              "                 SVC(C=1.0, break_ties=False, cache_size=200, class_weight=None,\n",
              "                     coef0=0.0, decision_function_shape='ovr', degree=3,\n",
              "                     gamma='scale', kernel='rbf', max_iter=-1,\n",
              "                     probability=False, random_state=None, shrinking=True,\n",
              "                     tol=0.001, verbose=False))],\n",
              "         verbose=False)"
            ]
          },
          "metadata": {
            "tags": []
          },
          "execution_count": 55
        }
      ]
    },
    {
      "cell_type": "markdown",
      "metadata": {
        "id": "1PfBcmTKo1dL"
      },
      "source": [
        "Użyjemy klasy ```RandomizedSearchCV```.  Parametr ```n_iter``` określa, ile konfiguracji będzie testowane. Zdefiniujemy 10000 konfiguracji.\n",
        "\n",
        "Wypróbujemy dwa parametry C oraz gamma.\n",
        "\n",
        "**TODO**\n",
        "* Zdefiniuj C jako listę/wektor 100 wartości od 0 do 2\n",
        "* Zdefiniuj gamma jako listę/wektor 100 wartości od 0.01 do 2"
      ]
    },
    {
      "cell_type": "code",
      "metadata": {
        "id": "MHwexBtloqGC"
      },
      "source": [
        "C=np.????\n",
        "gamma=np.????\n",
        "params={'svc__C':C,'svc__gamma':gamma}\n",
        "grid = RandomizedSearchCV(pipeline, params, scoring=\"f1_macro\",cv=10, n_iter=100,verbose=3)\n",
        "grid.fit(X, y)\n",
        "grid.best_params_"
      ],
      "execution_count": null,
      "outputs": []
    },
    {
      "cell_type": "code",
      "metadata": {
        "id": "lb2d3N1yp_FZ"
      },
      "source": [
        "pipeline = make_pipeline(configs['svc-rbf'][0], SVC(kernel='rbf',C=grid.best_params_['svc__C'],gamma=grid.best_params_['svc__gamma']))\n",
        "scoring = ['accuracy','precision_macro','recall_macro','f1_macro']\n",
        "\n",
        "cv_results = cross_validate(pipeline, X, y, cv=10,scoring=scoring)\n",
        "for k in cv_results:\n",
        "  print(f'{k}={cv_results[k].mean()}')"
      ],
      "execution_count": null,
      "outputs": []
    },
    {
      "cell_type": "markdown",
      "source": [
        "# Klasteryzacja"
      ],
      "metadata": {
        "id": "Pw8dyJAEegrx"
      }
    },
    {
      "cell_type": "code",
      "source": [
        "# Przeskalujemy wszystko\n",
        "\n",
        "scl = StandardScaler()\n",
        "Z = scl.fit_transform(X)"
      ],
      "metadata": {
        "id": "DtS9j6J3eqej"
      },
      "execution_count": null,
      "outputs": []
    },
    {
      "cell_type": "markdown",
      "source": [
        "Oceń podobieństwo utworów na podstawie wyników klasteryzacji..."
      ],
      "metadata": {
        "id": "_adcX4xSe_GP"
      }
    },
    {
      "cell_type": "code",
      "source": [
        "import numpy as np\n",
        "\n",
        "from matplotlib import pyplot as plt\n",
        "from scipy.cluster.hierarchy import dendrogram\n",
        "\n",
        "from sklearn.cluster import AgglomerativeClustering\n",
        "plt.rcParams[\"figure.figsize\"] = (12,25)\n",
        "\n",
        "def plot_dendrogram(model, **kwargs):\n",
        "    # Create linkage matrix and then plot the dendrogram\n",
        "\n",
        "    # create the counts of samples under each node\n",
        "    counts = np.zeros(model.children_.shape[0])\n",
        "    n_samples = len(model.labels_)\n",
        "    for i, merge in enumerate(model.children_):\n",
        "        current_count = 0\n",
        "        for child_idx in merge:\n",
        "            if child_idx < n_samples:\n",
        "                current_count += 1  # leaf node\n",
        "            else:\n",
        "                current_count += counts[child_idx - n_samples]\n",
        "        counts[i] = current_count\n",
        "\n",
        "    linkage_matrix = np.column_stack([model.children_, model.distances_,\n",
        "                                      counts]).astype(float)\n",
        "\n",
        "    # Plot the corresponding dendrogram\n",
        "    dendrogram(linkage_matrix, **kwargs)\n",
        "\n",
        "\n",
        "\n",
        "# setting distance_threshold=0 ensures we compute the full tree.\n",
        "model = AgglomerativeClustering(distance_threshold=0, n_clusters=None)\n",
        "\n",
        "model = model.fit(Z)\n",
        "print(model.labels_)\n",
        "\n",
        "plt.title('Hierarchical Clustering Dendrogram')\n",
        "# plot the top three levels of the dendrogram\n",
        "plot_dendrogram(model, truncate_mode='level', p=10,labels=df.file.to_numpy(),orientation='right')\n",
        "plt.xlabel(\"Number of points in node (or index of point if no parenthesis).\")\n",
        "\n",
        "plt.show()\n",
        "\n",
        "print(df.file.to_numpy())"
      ],
      "metadata": {
        "id": "7Veid46vew7j"
      },
      "execution_count": null,
      "outputs": []
    }
  ]
}